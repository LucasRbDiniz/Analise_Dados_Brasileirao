{
  "cells": [
    {
      "cell_type": "markdown",
      "metadata": {
        "id": "hqVw6kbhxceb"
      },
      "source": [
        "# **Apresentação dos Dados - 10 anos de brasileirão**"
      ]
    },
    {
      "cell_type": "markdown",
      "metadata": {
        "id": "8aCXzZJi8Eem"
      },
      "source": [
        "# **Probabilidades**"
      ]
    },
    {
      "cell_type": "code",
      "execution_count": null,
      "metadata": {
        "id": "FWUKM1jJQy2D"
      },
      "outputs": [],
      "source": [
        "import numpy as np\n",
        "import numpy.random as randint\n",
        "import pandas as pd\n",
        "import seaborn as sns\n",
        "from sklearn.preprocessing import StandardScaler\n",
        "import plotly.express as px\n",
        "from numpy import mean\n",
        "from matplotlib import pyplot\n",
        "from google.colab import drive"
      ]
    },
    {
      "cell_type": "code",
      "execution_count": null,
      "metadata": {
        "id": "zdN58lMSRBPh",
        "colab": {
          "base_uri": "https://localhost:8080/"
        },
        "outputId": "645d86c0-0b2d-4e23-dff0-01ddecb549c9"
      },
      "outputs": [
        {
          "output_type": "stream",
          "name": "stdout",
          "text": [
            "Drive already mounted at /content/gdrive; to attempt to forcibly remount, call drive.mount(\"/content/gdrive\", force_remount=True).\n"
          ]
        }
      ],
      "source": [
        "drive.mount('/content/gdrive')"
      ]
    },
    {
      "cell_type": "code",
      "execution_count": null,
      "metadata": {
        "id": "HKHjv-dUy7g7"
      },
      "outputs": [],
      "source": [
        "df = pd.read_csv('/content/gdrive/MyDrive/Colab Notebooks/Data-Camp-Brasileiro_1.csv', delimiter=';')"
      ]
    },
    {
      "cell_type": "code",
      "execution_count": null,
      "metadata": {
        "id": "oze_O0tZ-WXG",
        "colab": {
          "base_uri": "https://localhost:8080/",
          "height": 363
        },
        "outputId": "70066668-7839-4d63-8eee-e3c7c57796a2"
      },
      "outputs": [
        {
          "output_type": "execute_result",
          "data": {
            "text/plain": [
              "    ANO  Posicao           Time  Pontos  Vitoria  Empates  Derrotas  Gols pro  \\\n",
              "0  2009        1       Flamengo      67       19       10         9        58   \n",
              "1  2009        2  Internacional      65       19        8        11        65   \n",
              "2  2009        3      Sao Paulo      65       18       11         9        57   \n",
              "3  2009        4       Cruzeiro      62       18        8        12        58   \n",
              "4  2009        5      Palmeiras      62       17       11        10        58   \n",
              "5  2009        6           Avai      57       15       12        11        61   \n",
              "6  2009        7    Atletico MG      56       16        8        14        55   \n",
              "7  2009        8         Gremio      55       15       10        13        67   \n",
              "8  2009        9          Goias      55       15       10        13        64   \n",
              "9  2009       10    Corinthians      52       14       10        14        50   \n",
              "\n",
              "   Gols Contra Saldo Gols  Aproveitamento Estados  \n",
              "0           44         14            58.8      RJ  \n",
              "1           44         21            57.0      RS  \n",
              "2           42         15            57.0      SP  \n",
              "3           53          5            54.4      MG  \n",
              "4           45         13            54.4      SP  \n",
              "5           52          9            50.0      SC  \n",
              "6           56         -1            49.1      MG  \n",
              "7           46         21            48.2      RS  \n",
              "8           65         -1            48.2      GO  \n",
              "9           54         -4            45.6      SP  "
            ],
            "text/html": [
              "\n",
              "  <div id=\"df-27279688-6b3a-4d0a-90fb-b6254a3dcaff\">\n",
              "    <div class=\"colab-df-container\">\n",
              "      <div>\n",
              "<style scoped>\n",
              "    .dataframe tbody tr th:only-of-type {\n",
              "        vertical-align: middle;\n",
              "    }\n",
              "\n",
              "    .dataframe tbody tr th {\n",
              "        vertical-align: top;\n",
              "    }\n",
              "\n",
              "    .dataframe thead th {\n",
              "        text-align: right;\n",
              "    }\n",
              "</style>\n",
              "<table border=\"1\" class=\"dataframe\">\n",
              "  <thead>\n",
              "    <tr style=\"text-align: right;\">\n",
              "      <th></th>\n",
              "      <th>ANO</th>\n",
              "      <th>Posicao</th>\n",
              "      <th>Time</th>\n",
              "      <th>Pontos</th>\n",
              "      <th>Vitoria</th>\n",
              "      <th>Empates</th>\n",
              "      <th>Derrotas</th>\n",
              "      <th>Gols pro</th>\n",
              "      <th>Gols Contra</th>\n",
              "      <th>Saldo Gols</th>\n",
              "      <th>Aproveitamento</th>\n",
              "      <th>Estados</th>\n",
              "    </tr>\n",
              "  </thead>\n",
              "  <tbody>\n",
              "    <tr>\n",
              "      <th>0</th>\n",
              "      <td>2009</td>\n",
              "      <td>1</td>\n",
              "      <td>Flamengo</td>\n",
              "      <td>67</td>\n",
              "      <td>19</td>\n",
              "      <td>10</td>\n",
              "      <td>9</td>\n",
              "      <td>58</td>\n",
              "      <td>44</td>\n",
              "      <td>14</td>\n",
              "      <td>58.8</td>\n",
              "      <td>RJ</td>\n",
              "    </tr>\n",
              "    <tr>\n",
              "      <th>1</th>\n",
              "      <td>2009</td>\n",
              "      <td>2</td>\n",
              "      <td>Internacional</td>\n",
              "      <td>65</td>\n",
              "      <td>19</td>\n",
              "      <td>8</td>\n",
              "      <td>11</td>\n",
              "      <td>65</td>\n",
              "      <td>44</td>\n",
              "      <td>21</td>\n",
              "      <td>57.0</td>\n",
              "      <td>RS</td>\n",
              "    </tr>\n",
              "    <tr>\n",
              "      <th>2</th>\n",
              "      <td>2009</td>\n",
              "      <td>3</td>\n",
              "      <td>Sao Paulo</td>\n",
              "      <td>65</td>\n",
              "      <td>18</td>\n",
              "      <td>11</td>\n",
              "      <td>9</td>\n",
              "      <td>57</td>\n",
              "      <td>42</td>\n",
              "      <td>15</td>\n",
              "      <td>57.0</td>\n",
              "      <td>SP</td>\n",
              "    </tr>\n",
              "    <tr>\n",
              "      <th>3</th>\n",
              "      <td>2009</td>\n",
              "      <td>4</td>\n",
              "      <td>Cruzeiro</td>\n",
              "      <td>62</td>\n",
              "      <td>18</td>\n",
              "      <td>8</td>\n",
              "      <td>12</td>\n",
              "      <td>58</td>\n",
              "      <td>53</td>\n",
              "      <td>5</td>\n",
              "      <td>54.4</td>\n",
              "      <td>MG</td>\n",
              "    </tr>\n",
              "    <tr>\n",
              "      <th>4</th>\n",
              "      <td>2009</td>\n",
              "      <td>5</td>\n",
              "      <td>Palmeiras</td>\n",
              "      <td>62</td>\n",
              "      <td>17</td>\n",
              "      <td>11</td>\n",
              "      <td>10</td>\n",
              "      <td>58</td>\n",
              "      <td>45</td>\n",
              "      <td>13</td>\n",
              "      <td>54.4</td>\n",
              "      <td>SP</td>\n",
              "    </tr>\n",
              "    <tr>\n",
              "      <th>5</th>\n",
              "      <td>2009</td>\n",
              "      <td>6</td>\n",
              "      <td>Avai</td>\n",
              "      <td>57</td>\n",
              "      <td>15</td>\n",
              "      <td>12</td>\n",
              "      <td>11</td>\n",
              "      <td>61</td>\n",
              "      <td>52</td>\n",
              "      <td>9</td>\n",
              "      <td>50.0</td>\n",
              "      <td>SC</td>\n",
              "    </tr>\n",
              "    <tr>\n",
              "      <th>6</th>\n",
              "      <td>2009</td>\n",
              "      <td>7</td>\n",
              "      <td>Atletico MG</td>\n",
              "      <td>56</td>\n",
              "      <td>16</td>\n",
              "      <td>8</td>\n",
              "      <td>14</td>\n",
              "      <td>55</td>\n",
              "      <td>56</td>\n",
              "      <td>-1</td>\n",
              "      <td>49.1</td>\n",
              "      <td>MG</td>\n",
              "    </tr>\n",
              "    <tr>\n",
              "      <th>7</th>\n",
              "      <td>2009</td>\n",
              "      <td>8</td>\n",
              "      <td>Gremio</td>\n",
              "      <td>55</td>\n",
              "      <td>15</td>\n",
              "      <td>10</td>\n",
              "      <td>13</td>\n",
              "      <td>67</td>\n",
              "      <td>46</td>\n",
              "      <td>21</td>\n",
              "      <td>48.2</td>\n",
              "      <td>RS</td>\n",
              "    </tr>\n",
              "    <tr>\n",
              "      <th>8</th>\n",
              "      <td>2009</td>\n",
              "      <td>9</td>\n",
              "      <td>Goias</td>\n",
              "      <td>55</td>\n",
              "      <td>15</td>\n",
              "      <td>10</td>\n",
              "      <td>13</td>\n",
              "      <td>64</td>\n",
              "      <td>65</td>\n",
              "      <td>-1</td>\n",
              "      <td>48.2</td>\n",
              "      <td>GO</td>\n",
              "    </tr>\n",
              "    <tr>\n",
              "      <th>9</th>\n",
              "      <td>2009</td>\n",
              "      <td>10</td>\n",
              "      <td>Corinthians</td>\n",
              "      <td>52</td>\n",
              "      <td>14</td>\n",
              "      <td>10</td>\n",
              "      <td>14</td>\n",
              "      <td>50</td>\n",
              "      <td>54</td>\n",
              "      <td>-4</td>\n",
              "      <td>45.6</td>\n",
              "      <td>SP</td>\n",
              "    </tr>\n",
              "  </tbody>\n",
              "</table>\n",
              "</div>\n",
              "      <button class=\"colab-df-convert\" onclick=\"convertToInteractive('df-27279688-6b3a-4d0a-90fb-b6254a3dcaff')\"\n",
              "              title=\"Convert this dataframe to an interactive table.\"\n",
              "              style=\"display:none;\">\n",
              "        \n",
              "  <svg xmlns=\"http://www.w3.org/2000/svg\" height=\"24px\"viewBox=\"0 0 24 24\"\n",
              "       width=\"24px\">\n",
              "    <path d=\"M0 0h24v24H0V0z\" fill=\"none\"/>\n",
              "    <path d=\"M18.56 5.44l.94 2.06.94-2.06 2.06-.94-2.06-.94-.94-2.06-.94 2.06-2.06.94zm-11 1L8.5 8.5l.94-2.06 2.06-.94-2.06-.94L8.5 2.5l-.94 2.06-2.06.94zm10 10l.94 2.06.94-2.06 2.06-.94-2.06-.94-.94-2.06-.94 2.06-2.06.94z\"/><path d=\"M17.41 7.96l-1.37-1.37c-.4-.4-.92-.59-1.43-.59-.52 0-1.04.2-1.43.59L10.3 9.45l-7.72 7.72c-.78.78-.78 2.05 0 2.83L4 21.41c.39.39.9.59 1.41.59.51 0 1.02-.2 1.41-.59l7.78-7.78 2.81-2.81c.8-.78.8-2.07 0-2.86zM5.41 20L4 18.59l7.72-7.72 1.47 1.35L5.41 20z\"/>\n",
              "  </svg>\n",
              "      </button>\n",
              "      \n",
              "  <style>\n",
              "    .colab-df-container {\n",
              "      display:flex;\n",
              "      flex-wrap:wrap;\n",
              "      gap: 12px;\n",
              "    }\n",
              "\n",
              "    .colab-df-convert {\n",
              "      background-color: #E8F0FE;\n",
              "      border: none;\n",
              "      border-radius: 50%;\n",
              "      cursor: pointer;\n",
              "      display: none;\n",
              "      fill: #1967D2;\n",
              "      height: 32px;\n",
              "      padding: 0 0 0 0;\n",
              "      width: 32px;\n",
              "    }\n",
              "\n",
              "    .colab-df-convert:hover {\n",
              "      background-color: #E2EBFA;\n",
              "      box-shadow: 0px 1px 2px rgba(60, 64, 67, 0.3), 0px 1px 3px 1px rgba(60, 64, 67, 0.15);\n",
              "      fill: #174EA6;\n",
              "    }\n",
              "\n",
              "    [theme=dark] .colab-df-convert {\n",
              "      background-color: #3B4455;\n",
              "      fill: #D2E3FC;\n",
              "    }\n",
              "\n",
              "    [theme=dark] .colab-df-convert:hover {\n",
              "      background-color: #434B5C;\n",
              "      box-shadow: 0px 1px 3px 1px rgba(0, 0, 0, 0.15);\n",
              "      filter: drop-shadow(0px 1px 2px rgba(0, 0, 0, 0.3));\n",
              "      fill: #FFFFFF;\n",
              "    }\n",
              "  </style>\n",
              "\n",
              "      <script>\n",
              "        const buttonEl =\n",
              "          document.querySelector('#df-27279688-6b3a-4d0a-90fb-b6254a3dcaff button.colab-df-convert');\n",
              "        buttonEl.style.display =\n",
              "          google.colab.kernel.accessAllowed ? 'block' : 'none';\n",
              "\n",
              "        async function convertToInteractive(key) {\n",
              "          const element = document.querySelector('#df-27279688-6b3a-4d0a-90fb-b6254a3dcaff');\n",
              "          const dataTable =\n",
              "            await google.colab.kernel.invokeFunction('convertToInteractive',\n",
              "                                                     [key], {});\n",
              "          if (!dataTable) return;\n",
              "\n",
              "          const docLinkHtml = 'Like what you see? Visit the ' +\n",
              "            '<a target=\"_blank\" href=https://colab.research.google.com/notebooks/data_table.ipynb>data table notebook</a>'\n",
              "            + ' to learn more about interactive tables.';\n",
              "          element.innerHTML = '';\n",
              "          dataTable['output_type'] = 'display_data';\n",
              "          await google.colab.output.renderOutput(dataTable, element);\n",
              "          const docLink = document.createElement('div');\n",
              "          docLink.innerHTML = docLinkHtml;\n",
              "          element.appendChild(docLink);\n",
              "        }\n",
              "      </script>\n",
              "    </div>\n",
              "  </div>\n",
              "  "
            ]
          },
          "metadata": {},
          "execution_count": 47
        }
      ],
      "source": [
        "df.head(10)"
      ]
    },
    {
      "cell_type": "markdown",
      "metadata": {
        "id": "5UGZFFYQRit3"
      },
      "source": [
        "##Probabilidade Simples"
      ]
    },
    {
      "cell_type": "markdown",
      "metadata": {
        "id": "B-JpHwUtRkj1"
      },
      "source": [
        "Qual a probabilidade de um time levar mais de 55 gols durante o campeonato?"
      ]
    },
    {
      "cell_type": "code",
      "execution_count": null,
      "metadata": {
        "id": "n7pYukxsRlB_",
        "colab": {
          "base_uri": "https://localhost:8080/"
        },
        "outputId": "60d44730-1b33-4519-f7c2-4672873275c9"
      },
      "outputs": [
        {
          "output_type": "stream",
          "name": "stdout",
          "text": [
            "A probabilidade de um time levar mais de 55 gols durante o campeonato é de: 19.5%\n"
          ]
        }
      ],
      "source": [
        "probGolContra = len(df[df['Gols Contra'] > 55]) / len(df)\n",
        "print('A probabilidade de um time levar mais de 55 gols durante o campeonato é de: ' + str(round((probGolContra*100),4)) + '%')"
      ]
    },
    {
      "cell_type": "markdown",
      "metadata": {
        "id": "4Wz2_Kk29STF"
      },
      "source": [
        "Dentro do campeonato brasileiro, é de suma importância saber quantos gols um time marca e quantos gols um time sofre. Com esses dados podemos fazer analises sobre o estado atual da defesa e o ataque de um time, assim como o seu desempenho durante o campeonato. Com a apresentação deste dado, podemos analisar a porcentagem dos times ao longo destes 10 anos de historia do campeonato brasileiro levaram mais que 55 gols.\n"
      ]
    },
    {
      "cell_type": "markdown",
      "metadata": {
        "id": "IN07RhAoSPMb"
      },
      "source": [
        "##Probabilidade da União"
      ]
    },
    {
      "cell_type": "markdown",
      "metadata": {
        "id": "EZ57gValSZ_m"
      },
      "source": [
        "Qual a probabilidade de um time ter mais que 60 gols ou ter 20 ou mais vitorias?"
      ]
    },
    {
      "cell_type": "code",
      "execution_count": null,
      "metadata": {
        "id": "ym3Ggn57S3I5",
        "colab": {
          "base_uri": "https://localhost:8080/"
        },
        "outputId": "015569ad-0875-4057-d1f1-0d664c62b125"
      },
      "outputs": [
        {
          "output_type": "stream",
          "name": "stdout",
          "text": [
            "A probabilidade de ter feito mais que 60 gols ou ter mais que 20 vitorias é de 16.0%\n"
          ]
        }
      ],
      "source": [
        "uniao = len(df[(df['Gols pro']>60) | (df['Vitoria']>=20)])\n",
        "probUniao = round(uniao/len(df),4)\n",
        "\n",
        "print('A probabilidade de ter feito mais que 60 gols ou ter mais que 20 vitorias é de ' + str(round((probUniao*100),4)) + '%')"
      ]
    },
    {
      "cell_type": "markdown",
      "metadata": {
        "id": "e-LZNmWIEy36"
      },
      "source": [
        "Esta probabilidade mostra a porcentagem de times que durante o campeonato marcaram bastante ou estão com 20 ou mais vitórias. Gols são importantes porém não são tudo, mesmo que com um excelente ataque marcando muitos gols não necessariamente você terá muitas vitórias já que sua defesa pode ser falha e por assim levar vários gols. \n",
        "\n",
        "Referencia externa: https://yoursoccerhome.com/a-goal-in-soccer-its-worth-scoring-system-and-the-rules/\n",
        "\n",
        "Frase retirada da referencia acima:\n",
        "\"As you can see, ultimately, the amount of goals scored by a team isn’t the most important factor in a game. What matters most is that one team ends the game with more goals than the other team.\""
      ]
    },
    {
      "cell_type": "markdown",
      "metadata": {
        "id": "9q5qPzALU17D"
      },
      "source": [
        "##Probabilidade da Intersecção"
      ]
    },
    {
      "cell_type": "markdown",
      "metadata": {
        "id": "r_ZBIApTVFQv"
      },
      "source": [
        "Qual a probabilidade de um time levar mais que 55 gols e estar no Z4(Zona de rebaixamento)?"
      ]
    },
    {
      "cell_type": "code",
      "execution_count": null,
      "metadata": {
        "id": "lOLqpeUnU5Vx",
        "colab": {
          "base_uri": "https://localhost:8080/"
        },
        "outputId": "21efb4ca-2814-4472-af5e-c3ebc076fde7"
      },
      "outputs": [
        {
          "output_type": "stream",
          "name": "stdout",
          "text": [
            "A probabilidade de um time levar mais que 50 gols e estar no z4 é de: 11.0%\n"
          ]
        }
      ],
      "source": [
        "intersec = len(df[(df['Gols Contra']>55) & (df['Posicao'] >= 17)])\n",
        "probIntersec = intersec/len(df)\n",
        "\n",
        "print('A probabilidade de um time levar mais que 50 gols e estar no z4 é de: ' + str(round((probIntersec*100),4)) + '%')"
      ]
    },
    {
      "cell_type": "markdown",
      "metadata": {
        "id": "1wtVfq1JFkyn"
      },
      "source": [
        "Esta probabilidade faz uma analise dos times qual tomaram mais que 55 gols e estarem dentro do Z4 (São os quatros times com as piores colocações entre os 20 times, que possuem o risco de serem rebaixados para uma outra liga). Caso seu clube leve vários gols, existe a grande possibilidade de também obter várias derrotas logo também a má colocação na tabela!"
      ]
    },
    {
      "cell_type": "markdown",
      "metadata": {
        "id": "zMg5RpBrV0jy"
      },
      "source": [
        "##Probabilidade do Complemento"
      ]
    },
    {
      "cell_type": "markdown",
      "metadata": {
        "id": "4MD0GpcgV7kg"
      },
      "source": [
        "Qual a probabilidade de um time levar menos que 55 gols e estar no Z4 (Zona de rebaixamento)?"
      ]
    },
    {
      "cell_type": "code",
      "execution_count": null,
      "metadata": {
        "id": "H9CyWahwV74H",
        "colab": {
          "base_uri": "https://localhost:8080/"
        },
        "outputId": "c525b6d4-d3c8-49bd-d35b-abe91c0a240b"
      },
      "outputs": [
        {
          "output_type": "stream",
          "name": "stdout",
          "text": [
            "A probabilidade de um time levar menos que 55 gols e estar no z4 é de: 8.5%\n"
          ]
        }
      ],
      "source": [
        "probComp = probGolContra - probIntersec\n",
        "print('A probabilidade de um time levar menos que 55 gols e estar no z4 é de: ' + str(round((probComp*100),4)) + '%')\n"
      ]
    },
    {
      "cell_type": "markdown",
      "metadata": {
        "id": "6Gc7b944Hsy5"
      },
      "source": [
        "Esta probabilidade faz a análise de um time que tenha levado menos que 55 gols e ainda sim estar no Z4. Mesmo que você leve poucos gols, caso não marque gols não ira alcançar a vitória, por isso existem times que levam menos de 55 gols porém ainda estão sendo rebaixados de sua divisão."
      ]
    },
    {
      "cell_type": "markdown",
      "metadata": {
        "id": "Q6KauvqYWtsd"
      },
      "source": [
        "##Probabilidade da Diferença"
      ]
    },
    {
      "cell_type": "markdown",
      "metadata": {
        "id": "02NJ6jdpWzlT"
      },
      "source": [
        "Qual a probabilidade de um time estar no G4 (Quatro primeiros colocados da tabela) mas tenha menos de 55 gols marcados?"
      ]
    },
    {
      "cell_type": "code",
      "execution_count": null,
      "metadata": {
        "id": "0PhDy0_-Wyum",
        "colab": {
          "base_uri": "https://localhost:8080/"
        },
        "outputId": "18be127b-91cd-4a52-9a8c-41270d968102"
      },
      "outputs": [
        {
          "output_type": "stream",
          "name": "stdout",
          "text": [
            "A probabilidade de um time estar no G4 mas tenha menos de 55 gols marcados é de: 4.5%\n"
          ]
        }
      ],
      "source": [
        "AcompSibNaoAcompParch = len(df[df['Gols pro']<55]) - len(df[(df['Gols pro']<55) & (df['Posicao']>=4)]) \n",
        "probAcompSibNaoAcompParch = AcompSibNaoAcompParch/len(df)\n",
        "\n",
        "print('A probabilidade de um time estar no G4 mas tenha menos de 55 gols marcados é de: ' + str(round((probAcompSibNaoAcompParch*100),4)) + '%')"
      ]
    },
    {
      "cell_type": "markdown",
      "metadata": {
        "id": "QJnWVPxvJf08"
      },
      "source": [
        "Esta probabilidade conta as chances de um time que tenha marcado menos de 55 gols na temporada e esta classificado como um dos top 4 do campeonato. Um time considerado como um dos quatro melhoras da liga marcando menos que 55 gols pode ser considerado um valor baixo, porém sua defesa durante o campeonato pode ter sido consistente."
      ]
    },
    {
      "cell_type": "markdown",
      "metadata": {
        "id": "UKloWwk5W0XW"
      },
      "source": [
        "##Probabilidade Condicional"
      ]
    },
    {
      "cell_type": "markdown",
      "metadata": {
        "id": "PXLNCBz-W4FR"
      },
      "source": [
        "Qual a probabilidade de um time estar na Z4 sabendo que ele levou mais de 55 gols?"
      ]
    },
    {
      "cell_type": "code",
      "execution_count": null,
      "metadata": {
        "id": "-UnT1a9AW4ax",
        "colab": {
          "base_uri": "https://localhost:8080/"
        },
        "outputId": "cc014a48-1a9d-4be0-e720-7cfe36e37b77"
      },
      "outputs": [
        {
          "output_type": "stream",
          "name": "stdout",
          "text": [
            "A probabilidade de um time não estar na z4 sabendo que ele levou mais de 55 gols é de: 56.4103%\n"
          ]
        }
      ],
      "source": [
        "probCond = probIntersec / probGolContra\n",
        "print('A probabilidade de um time não estar na z4 sabendo que ele levou mais de 55 gols é de: ' + str(round((probCond*100),4)) + '%')"
      ]
    },
    {
      "cell_type": "markdown",
      "metadata": {
        "id": "El3xlOFfm4sg"
      },
      "source": [
        "Esta probabilidade apresenta a porcentagem de um time escolhido estar no Z4 sabendo que o mesmo ja sofreu mais que 55 gols durante o campeonato. Devido a grande quantidade de gols sofrida, é plausivel pensar-se que este poderia esta sendo rebaixado de divisão, já que sua defesa se provou inconsistente "
      ]
    },
    {
      "cell_type": "markdown",
      "metadata": {
        "id": "wAUAqhcdXlpM"
      },
      "source": [
        "##Teorema de Bayes"
      ]
    },
    {
      "cell_type": "markdown",
      "metadata": {
        "id": "hnYe_WpSXnzT"
      },
      "source": [
        "Qual a probabilidade de um time tenha tomado 50 gols ou mais, tal que ele esteja no G4?"
      ]
    },
    {
      "cell_type": "code",
      "execution_count": null,
      "metadata": {
        "id": "jCsHKnOWXnPZ",
        "colab": {
          "base_uri": "https://localhost:8080/"
        },
        "outputId": "f11503ef-87c7-4409-91e9-8986bfeaffd1"
      },
      "outputs": [
        {
          "output_type": "stream",
          "name": "stdout",
          "text": [
            "A probabilidade de um time ter tomado 50 gols ou mais na temporada sabendo que ele está no G4 é de: 1.5649%\n"
          ]
        }
      ],
      "source": [
        "probTmGol = len(df[df['Gols Contra'] >= 50]) / len(df)\n",
        "\n",
        "probG4 = len(df[df['Posicao'] <=4]) / len(df)\n",
        "\n",
        "intersec1 = len(df[(df['Gols Contra']>=50) & (df['Posicao'] <= 4 )])\n",
        "probIntersec1 = intersec1/len(df)\n",
        "\n",
        "probCond1 = probIntersec1/probTmGol\n",
        "\n",
        "uniao1 = len(df[(df['Gols Contra']>=50) | (df['Posicao']<=4)])\n",
        "probUniao1 = round(uniao1/len(df),4)\n",
        "\n",
        "probMutqAcomp = (probG4*probCond1)/probUniao1\n",
        "print(\"A probabilidade de um time ter tomado 50 gols ou mais na temporada sabendo que ele está no G4 é de: \" + str(round((probMutqAcomp*100),4)) + '%')"
      ]
    },
    {
      "cell_type": "markdown",
      "metadata": {
        "id": "spgt9SUp-08z"
      },
      "source": [
        "Esta probabilidade calcula a porcentagem de times que estavam no G4 e tenham tomado 50 ou mais gols. É provavel que, estando no topo da tabela a defesa de um time seja boa, logo espera-se que não tenham tomado uma grande quantidade de gols!"
      ]
    },
    {
      "cell_type": "markdown",
      "metadata": {
        "id": "hgh79oHRYWkn"
      },
      "source": [
        "##Variavel Aleatoria"
      ]
    },
    {
      "cell_type": "markdown",
      "metadata": {
        "id": "jCuKXiX7YZgM"
      },
      "source": [
        "Fiz a criação de duas variaveis aleatorias, a primeira foi a soma total dos jogos para descobrir a quantidade de rodadas jogadas durante o torneiro, já a segunda eu peguei os gols feitos por cada time e fiz uma divisão com a primeira váriavel, descobrindo assim a média de gols feitas por partida por cada time! Assim poderemos trabalhar com esses dados para ver quem pontuou mais por rodadas jogadas."
      ]
    },
    {
      "cell_type": "code",
      "execution_count": null,
      "metadata": {
        "id": "rrSBoxGIYZCl",
        "colab": {
          "base_uri": "https://localhost:8080/"
        },
        "outputId": "1ae6c4fc-f10b-4ad8-8cbd-d5c780eb1c58"
      },
      "outputs": [
        {
          "output_type": "execute_result",
          "data": {
            "text/plain": [
              "    ANO  Posicao           Time  Pontos  Vitoria  Empates  Derrotas  Gols pro  \\\n",
              "0  2009        1       Flamengo      67       19       10         9        58   \n",
              "1  2009        2  Internacional      65       19        8        11        65   \n",
              "2  2009        3      Sao Paulo      65       18       11         9        57   \n",
              "3  2009        4       Cruzeiro      62       18        8        12        58   \n",
              "4  2009        5      Palmeiras      62       17       11        10        58   \n",
              "\n",
              "   Gols Contra Saldo Gols  Aproveitamento Estados  Partidas Jogadas  \\\n",
              "0           44         14            58.8      RJ                38   \n",
              "1           44         21            57.0      RS                38   \n",
              "2           42         15            57.0      SP                38   \n",
              "3           53          5            54.4      MG                38   \n",
              "4           45         13            54.4      SP                38   \n",
              "\n",
              "   Media gol p/ partida  \n",
              "0                  1.53  \n",
              "1                  1.71  \n",
              "2                  1.50  \n",
              "3                  1.53  \n",
              "4                  1.53  "
            ],
            "text/html": [
              "\n",
              "  <div id=\"df-afca4d66-b722-432a-9225-ed2e9d3ebd96\">\n",
              "    <div class=\"colab-df-container\">\n",
              "      <div>\n",
              "<style scoped>\n",
              "    .dataframe tbody tr th:only-of-type {\n",
              "        vertical-align: middle;\n",
              "    }\n",
              "\n",
              "    .dataframe tbody tr th {\n",
              "        vertical-align: top;\n",
              "    }\n",
              "\n",
              "    .dataframe thead th {\n",
              "        text-align: right;\n",
              "    }\n",
              "</style>\n",
              "<table border=\"1\" class=\"dataframe\">\n",
              "  <thead>\n",
              "    <tr style=\"text-align: right;\">\n",
              "      <th></th>\n",
              "      <th>ANO</th>\n",
              "      <th>Posicao</th>\n",
              "      <th>Time</th>\n",
              "      <th>Pontos</th>\n",
              "      <th>Vitoria</th>\n",
              "      <th>Empates</th>\n",
              "      <th>Derrotas</th>\n",
              "      <th>Gols pro</th>\n",
              "      <th>Gols Contra</th>\n",
              "      <th>Saldo Gols</th>\n",
              "      <th>Aproveitamento</th>\n",
              "      <th>Estados</th>\n",
              "      <th>Partidas Jogadas</th>\n",
              "      <th>Media gol p/ partida</th>\n",
              "    </tr>\n",
              "  </thead>\n",
              "  <tbody>\n",
              "    <tr>\n",
              "      <th>0</th>\n",
              "      <td>2009</td>\n",
              "      <td>1</td>\n",
              "      <td>Flamengo</td>\n",
              "      <td>67</td>\n",
              "      <td>19</td>\n",
              "      <td>10</td>\n",
              "      <td>9</td>\n",
              "      <td>58</td>\n",
              "      <td>44</td>\n",
              "      <td>14</td>\n",
              "      <td>58.8</td>\n",
              "      <td>RJ</td>\n",
              "      <td>38</td>\n",
              "      <td>1.53</td>\n",
              "    </tr>\n",
              "    <tr>\n",
              "      <th>1</th>\n",
              "      <td>2009</td>\n",
              "      <td>2</td>\n",
              "      <td>Internacional</td>\n",
              "      <td>65</td>\n",
              "      <td>19</td>\n",
              "      <td>8</td>\n",
              "      <td>11</td>\n",
              "      <td>65</td>\n",
              "      <td>44</td>\n",
              "      <td>21</td>\n",
              "      <td>57.0</td>\n",
              "      <td>RS</td>\n",
              "      <td>38</td>\n",
              "      <td>1.71</td>\n",
              "    </tr>\n",
              "    <tr>\n",
              "      <th>2</th>\n",
              "      <td>2009</td>\n",
              "      <td>3</td>\n",
              "      <td>Sao Paulo</td>\n",
              "      <td>65</td>\n",
              "      <td>18</td>\n",
              "      <td>11</td>\n",
              "      <td>9</td>\n",
              "      <td>57</td>\n",
              "      <td>42</td>\n",
              "      <td>15</td>\n",
              "      <td>57.0</td>\n",
              "      <td>SP</td>\n",
              "      <td>38</td>\n",
              "      <td>1.50</td>\n",
              "    </tr>\n",
              "    <tr>\n",
              "      <th>3</th>\n",
              "      <td>2009</td>\n",
              "      <td>4</td>\n",
              "      <td>Cruzeiro</td>\n",
              "      <td>62</td>\n",
              "      <td>18</td>\n",
              "      <td>8</td>\n",
              "      <td>12</td>\n",
              "      <td>58</td>\n",
              "      <td>53</td>\n",
              "      <td>5</td>\n",
              "      <td>54.4</td>\n",
              "      <td>MG</td>\n",
              "      <td>38</td>\n",
              "      <td>1.53</td>\n",
              "    </tr>\n",
              "    <tr>\n",
              "      <th>4</th>\n",
              "      <td>2009</td>\n",
              "      <td>5</td>\n",
              "      <td>Palmeiras</td>\n",
              "      <td>62</td>\n",
              "      <td>17</td>\n",
              "      <td>11</td>\n",
              "      <td>10</td>\n",
              "      <td>58</td>\n",
              "      <td>45</td>\n",
              "      <td>13</td>\n",
              "      <td>54.4</td>\n",
              "      <td>SP</td>\n",
              "      <td>38</td>\n",
              "      <td>1.53</td>\n",
              "    </tr>\n",
              "  </tbody>\n",
              "</table>\n",
              "</div>\n",
              "      <button class=\"colab-df-convert\" onclick=\"convertToInteractive('df-afca4d66-b722-432a-9225-ed2e9d3ebd96')\"\n",
              "              title=\"Convert this dataframe to an interactive table.\"\n",
              "              style=\"display:none;\">\n",
              "        \n",
              "  <svg xmlns=\"http://www.w3.org/2000/svg\" height=\"24px\"viewBox=\"0 0 24 24\"\n",
              "       width=\"24px\">\n",
              "    <path d=\"M0 0h24v24H0V0z\" fill=\"none\"/>\n",
              "    <path d=\"M18.56 5.44l.94 2.06.94-2.06 2.06-.94-2.06-.94-.94-2.06-.94 2.06-2.06.94zm-11 1L8.5 8.5l.94-2.06 2.06-.94-2.06-.94L8.5 2.5l-.94 2.06-2.06.94zm10 10l.94 2.06.94-2.06 2.06-.94-2.06-.94-.94-2.06-.94 2.06-2.06.94z\"/><path d=\"M17.41 7.96l-1.37-1.37c-.4-.4-.92-.59-1.43-.59-.52 0-1.04.2-1.43.59L10.3 9.45l-7.72 7.72c-.78.78-.78 2.05 0 2.83L4 21.41c.39.39.9.59 1.41.59.51 0 1.02-.2 1.41-.59l7.78-7.78 2.81-2.81c.8-.78.8-2.07 0-2.86zM5.41 20L4 18.59l7.72-7.72 1.47 1.35L5.41 20z\"/>\n",
              "  </svg>\n",
              "      </button>\n",
              "      \n",
              "  <style>\n",
              "    .colab-df-container {\n",
              "      display:flex;\n",
              "      flex-wrap:wrap;\n",
              "      gap: 12px;\n",
              "    }\n",
              "\n",
              "    .colab-df-convert {\n",
              "      background-color: #E8F0FE;\n",
              "      border: none;\n",
              "      border-radius: 50%;\n",
              "      cursor: pointer;\n",
              "      display: none;\n",
              "      fill: #1967D2;\n",
              "      height: 32px;\n",
              "      padding: 0 0 0 0;\n",
              "      width: 32px;\n",
              "    }\n",
              "\n",
              "    .colab-df-convert:hover {\n",
              "      background-color: #E2EBFA;\n",
              "      box-shadow: 0px 1px 2px rgba(60, 64, 67, 0.3), 0px 1px 3px 1px rgba(60, 64, 67, 0.15);\n",
              "      fill: #174EA6;\n",
              "    }\n",
              "\n",
              "    [theme=dark] .colab-df-convert {\n",
              "      background-color: #3B4455;\n",
              "      fill: #D2E3FC;\n",
              "    }\n",
              "\n",
              "    [theme=dark] .colab-df-convert:hover {\n",
              "      background-color: #434B5C;\n",
              "      box-shadow: 0px 1px 3px 1px rgba(0, 0, 0, 0.15);\n",
              "      filter: drop-shadow(0px 1px 2px rgba(0, 0, 0, 0.3));\n",
              "      fill: #FFFFFF;\n",
              "    }\n",
              "  </style>\n",
              "\n",
              "      <script>\n",
              "        const buttonEl =\n",
              "          document.querySelector('#df-afca4d66-b722-432a-9225-ed2e9d3ebd96 button.colab-df-convert');\n",
              "        buttonEl.style.display =\n",
              "          google.colab.kernel.accessAllowed ? 'block' : 'none';\n",
              "\n",
              "        async function convertToInteractive(key) {\n",
              "          const element = document.querySelector('#df-afca4d66-b722-432a-9225-ed2e9d3ebd96');\n",
              "          const dataTable =\n",
              "            await google.colab.kernel.invokeFunction('convertToInteractive',\n",
              "                                                     [key], {});\n",
              "          if (!dataTable) return;\n",
              "\n",
              "          const docLinkHtml = 'Like what you see? Visit the ' +\n",
              "            '<a target=\"_blank\" href=https://colab.research.google.com/notebooks/data_table.ipynb>data table notebook</a>'\n",
              "            + ' to learn more about interactive tables.';\n",
              "          element.innerHTML = '';\n",
              "          dataTable['output_type'] = 'display_data';\n",
              "          await google.colab.output.renderOutput(dataTable, element);\n",
              "          const docLink = document.createElement('div');\n",
              "          docLink.innerHTML = docLinkHtml;\n",
              "          element.appendChild(docLink);\n",
              "        }\n",
              "      </script>\n",
              "    </div>\n",
              "  </div>\n",
              "  "
            ]
          },
          "metadata": {},
          "execution_count": 55
        }
      ],
      "source": [
        "df['Partidas Jogadas'] = df['Vitoria'] + df['Derrotas'] + df['Empates']\n",
        "df['Media gol p/ partida'] = round((df['Gols pro'] / df['Partidas Jogadas']),2)\n",
        "df.head(5)"
      ]
    },
    {
      "cell_type": "markdown",
      "metadata": {
        "id": "Fp7rz-fcJuBs"
      },
      "source": [
        "Médias de gol p/ partida e suas respectivas quantidades de times!"
      ]
    },
    {
      "cell_type": "code",
      "execution_count": null,
      "metadata": {
        "id": "EYlWdU3qY36K",
        "colab": {
          "base_uri": "https://localhost:8080/"
        },
        "outputId": "8079f83a-7732-4293-b5ef-dcce87b685ea"
      },
      "outputs": [
        {
          "output_type": "execute_result",
          "data": {
            "text/plain": [
              "1.03    11\n",
              "1.26    11\n",
              "1.32    10\n",
              "1.13     9\n",
              "1.11     9\n",
              "1.34     9\n",
              "1.29     9\n",
              "1.55     8\n",
              "0.97     8\n",
              "1.18     7\n",
              "1.39     6\n",
              "1.08     6\n",
              "1.37     6\n",
              "1.00     6\n",
              "1.21     6\n",
              "1.50     5\n",
              "0.89     5\n",
              "1.61     5\n",
              "0.95     4\n",
              "1.16     4\n",
              "1.45     4\n",
              "1.24     4\n",
              "1.71     4\n",
              "1.53     4\n",
              "0.82     3\n",
              "1.42     3\n",
              "1.58     3\n",
              "0.92     3\n",
              "1.68     3\n",
              "1.47     2\n",
              "1.05     2\n",
              "0.84     2\n",
              "0.79     2\n",
              "1.63     2\n",
              "1.76     2\n",
              "0.74     2\n",
              "0.76     1\n",
              "0.61     1\n",
              "0.68     1\n",
              "0.87     1\n",
              "1.87     1\n",
              "0.58     1\n",
              "0.71     1\n",
              "2.03     1\n",
              "1.66     1\n",
              "1.79     1\n",
              "0.47     1\n",
              "Name: Media gol p/ partida, dtype: int64"
            ]
          },
          "metadata": {},
          "execution_count": 56
        }
      ],
      "source": [
        "df['Media gol p/ partida'].value_counts()"
      ]
    },
    {
      "cell_type": "markdown",
      "metadata": {
        "id": "uQfQnFkhZI26"
      },
      "source": [
        "##Função Probabilidade"
      ]
    },
    {
      "cell_type": "code",
      "execution_count": null,
      "metadata": {
        "id": "aiANwMo3G51H",
        "colab": {
          "base_uri": "https://localhost:8080/"
        },
        "outputId": "77eb7695-bda9-4d62-de07-b1aee7053974"
      },
      "outputs": [
        {
          "output_type": "execute_result",
          "data": {
            "text/plain": [
              "0.47     1\n",
              "0.58     1\n",
              "0.61     1\n",
              "0.68     1\n",
              "0.71     1\n",
              "0.74     2\n",
              "0.76     1\n",
              "0.79     2\n",
              "0.82     3\n",
              "0.84     2\n",
              "0.87     1\n",
              "0.89     5\n",
              "0.92     3\n",
              "0.95     4\n",
              "0.97     8\n",
              "1.00     6\n",
              "1.03    11\n",
              "1.05     2\n",
              "1.08     6\n",
              "1.11     9\n",
              "1.13     9\n",
              "1.16     4\n",
              "1.18     7\n",
              "1.21     6\n",
              "1.24     4\n",
              "1.26    11\n",
              "1.29     9\n",
              "1.32    10\n",
              "1.34     9\n",
              "1.37     6\n",
              "1.39     6\n",
              "1.42     3\n",
              "1.45     4\n",
              "1.47     2\n",
              "1.50     5\n",
              "1.53     4\n",
              "1.55     8\n",
              "1.58     3\n",
              "1.61     5\n",
              "1.63     2\n",
              "1.66     1\n",
              "1.68     3\n",
              "1.71     4\n",
              "1.76     2\n",
              "1.79     1\n",
              "1.87     1\n",
              "2.03     1\n",
              "Name: Media gol p/ partida, dtype: int64"
            ]
          },
          "metadata": {},
          "execution_count": 57
        }
      ],
      "source": [
        "df['Media gol p/ partida'].value_counts(sort=False).sort_index()"
      ]
    },
    {
      "cell_type": "code",
      "execution_count": null,
      "metadata": {
        "id": "YX0YWPBVWgOY",
        "colab": {
          "base_uri": "https://localhost:8080/"
        },
        "outputId": "efe4f908-6f30-4700-c78a-c9f907433d02"
      },
      "outputs": [
        {
          "output_type": "stream",
          "name": "stdout",
          "text": [
            "0.47    0.005\n",
            "0.58    0.005\n",
            "0.61    0.005\n",
            "0.68    0.005\n",
            "0.71    0.005\n",
            "0.74    0.010\n",
            "0.76    0.005\n",
            "0.79    0.010\n",
            "0.82    0.015\n",
            "0.84    0.010\n",
            "0.87    0.005\n",
            "0.89    0.025\n",
            "0.92    0.015\n",
            "0.95    0.020\n",
            "0.97    0.040\n",
            "1.00    0.030\n",
            "1.03    0.055\n",
            "1.05    0.010\n",
            "1.08    0.030\n",
            "1.11    0.045\n",
            "1.13    0.045\n",
            "1.16    0.020\n",
            "1.18    0.035\n",
            "1.21    0.030\n",
            "1.24    0.020\n",
            "1.26    0.055\n",
            "1.29    0.045\n",
            "1.32    0.050\n",
            "1.34    0.045\n",
            "1.37    0.030\n",
            "1.39    0.030\n",
            "1.42    0.015\n",
            "1.45    0.020\n",
            "1.47    0.010\n",
            "1.50    0.025\n",
            "1.53    0.020\n",
            "1.55    0.040\n",
            "1.58    0.015\n",
            "1.61    0.025\n",
            "1.63    0.010\n",
            "1.66    0.005\n",
            "1.68    0.015\n",
            "1.71    0.020\n",
            "1.76    0.010\n",
            "1.79    0.005\n",
            "1.87    0.005\n",
            "2.03    0.005\n",
            "Name: Media gol p/ partida, dtype: float64\n"
          ]
        }
      ],
      "source": [
        "fp = df['Media gol p/ partida'].value_counts(sort=False).sort_index() / df['Media gol p/ partida'].count()\n",
        "print(fp)"
      ]
    },
    {
      "cell_type": "markdown",
      "metadata": {
        "id": "GPcZM1uOZTmD"
      },
      "source": [
        "##Função Repartição"
      ]
    },
    {
      "cell_type": "markdown",
      "metadata": {
        "id": "yLlu1S45Jg2h"
      },
      "source": [
        "Soma acumulativa dos dados apresentados anteriormente!"
      ]
    },
    {
      "cell_type": "code",
      "execution_count": null,
      "metadata": {
        "id": "7vYp-T6DZWY0",
        "colab": {
          "base_uri": "https://localhost:8080/"
        },
        "outputId": "acda19e8-a42b-4f36-8d8f-62dabbdffb36"
      },
      "outputs": [
        {
          "output_type": "execute_result",
          "data": {
            "text/plain": [
              "0.47    0.005\n",
              "0.58    0.010\n",
              "0.61    0.015\n",
              "0.68    0.020\n",
              "0.71    0.025\n",
              "0.74    0.035\n",
              "0.76    0.040\n",
              "0.79    0.050\n",
              "0.82    0.065\n",
              "0.84    0.075\n",
              "0.87    0.080\n",
              "0.89    0.105\n",
              "0.92    0.120\n",
              "0.95    0.140\n",
              "0.97    0.180\n",
              "1.00    0.210\n",
              "1.03    0.265\n",
              "1.05    0.275\n",
              "1.08    0.305\n",
              "1.11    0.350\n",
              "1.13    0.395\n",
              "1.16    0.415\n",
              "1.18    0.450\n",
              "1.21    0.480\n",
              "1.24    0.500\n",
              "1.26    0.555\n",
              "1.29    0.600\n",
              "1.32    0.650\n",
              "1.34    0.695\n",
              "1.37    0.725\n",
              "1.39    0.755\n",
              "1.42    0.770\n",
              "1.45    0.790\n",
              "1.47    0.800\n",
              "1.50    0.825\n",
              "1.53    0.845\n",
              "1.55    0.885\n",
              "1.58    0.900\n",
              "1.61    0.925\n",
              "1.63    0.935\n",
              "1.66    0.940\n",
              "1.68    0.955\n",
              "1.71    0.975\n",
              "1.76    0.985\n",
              "1.79    0.990\n",
              "1.87    0.995\n",
              "2.03    1.000\n",
              "Name: Media gol p/ partida, dtype: float64"
            ]
          },
          "metadata": {},
          "execution_count": 59
        }
      ],
      "source": [
        "fp.cumsum()"
      ]
    },
    {
      "cell_type": "markdown",
      "metadata": {
        "id": "aEHam9kOZeUZ"
      },
      "source": [
        "##Gráfico Simples"
      ]
    },
    {
      "cell_type": "code",
      "execution_count": null,
      "metadata": {
        "id": "tRG94Y1hZgMU"
      },
      "outputs": [],
      "source": [
        "import matplotlib.pyplot as plt "
      ]
    },
    {
      "cell_type": "code",
      "execution_count": null,
      "metadata": {
        "id": "WgdA69SuZh4A",
        "colab": {
          "base_uri": "https://localhost:8080/"
        },
        "outputId": "09c02b5a-cb87-4f06-f0a8-c6bc7aab49d1"
      },
      "outputs": [
        {
          "output_type": "execute_result",
          "data": {
            "text/plain": [
              "[<matplotlib.lines.Line2D at 0x7f3539037310>]"
            ]
          },
          "metadata": {},
          "execution_count": 61
        },
        {
          "output_type": "display_data",
          "data": {
            "text/plain": [
              "<Figure size 432x288 with 1 Axes>"
            ],
            "image/png": "[encoded data removed]"
          },
          "metadata": {
            "needs_background": "light"
          }
        }
      ],
      "source": [
        "plt.plot(fp)"
      ]
    },
    {
      "cell_type": "code",
      "execution_count": null,
      "metadata": {
        "id": "D0N5BtC9Z6Up"
      },
      "outputs": [],
      "source": [
        "repart = fp.cumsum()"
      ]
    },
    {
      "cell_type": "code",
      "execution_count": null,
      "metadata": {
        "id": "hg2_HroKZ8LE",
        "colab": {
          "base_uri": "https://localhost:8080/"
        },
        "outputId": "5a9f2a43-fad3-438b-dc8d-b69a769504f2"
      },
      "outputs": [
        {
          "output_type": "execute_result",
          "data": {
            "text/plain": [
              "Text(0.5, 1.0, 'Gráfico Acumulado')"
            ]
          },
          "metadata": {},
          "execution_count": 63
        },
        {
          "output_type": "display_data",
          "data": {
            "text/plain": [
              "<Figure size 432x288 with 1 Axes>"
            ],
            "image/png": "[encoded data removed]"
          },
          "metadata": {
            "needs_background": "light"
          }
        }
      ],
      "source": [
        "plt.plot(repart, 'r--')\n",
        "plt.xlabel('Media de gols')\n",
        "plt.ylabel('Times')\n",
        "plt.title('Gráfico Acumulado')"
      ]
    },
    {
      "cell_type": "markdown",
      "metadata": {
        "id": "BUMWr7JHIg18"
      },
      "source": [
        "Mostragem de um gráfico da media de gols feita quantidades de times durante estes 10 anos de campeonato."
      ]
    },
    {
      "cell_type": "markdown",
      "metadata": {
        "id": "uzdp6ODQaL_W"
      },
      "source": [
        "##Covariância"
      ]
    },
    {
      "cell_type": "code",
      "execution_count": null,
      "metadata": {
        "id": "tV_umpYZaTIx",
        "colab": {
          "base_uri": "https://localhost:8080/",
          "height": 112
        },
        "outputId": "6c15cc27-b8bc-4e87-a169-3080314e6dbe"
      },
      "outputs": [
        {
          "output_type": "execute_result",
          "data": {
            "text/plain": [
              "            Vitoria    Gols pro\n",
              "Vitoria   15.742688   29.716985\n",
              "Gols pro  29.716985  104.747337"
            ],
            "text/html": [
              "\n",
              "  <div id=\"df-670b5251-f009-486e-8814-1a245615c378\">\n",
              "    <div class=\"colab-df-container\">\n",
              "      <div>\n",
              "<style scoped>\n",
              "    .dataframe tbody tr th:only-of-type {\n",
              "        vertical-align: middle;\n",
              "    }\n",
              "\n",
              "    .dataframe tbody tr th {\n",
              "        vertical-align: top;\n",
              "    }\n",
              "\n",
              "    .dataframe thead th {\n",
              "        text-align: right;\n",
              "    }\n",
              "</style>\n",
              "<table border=\"1\" class=\"dataframe\">\n",
              "  <thead>\n",
              "    <tr style=\"text-align: right;\">\n",
              "      <th></th>\n",
              "      <th>Vitoria</th>\n",
              "      <th>Gols pro</th>\n",
              "    </tr>\n",
              "  </thead>\n",
              "  <tbody>\n",
              "    <tr>\n",
              "      <th>Vitoria</th>\n",
              "      <td>15.742688</td>\n",
              "      <td>29.716985</td>\n",
              "    </tr>\n",
              "    <tr>\n",
              "      <th>Gols pro</th>\n",
              "      <td>29.716985</td>\n",
              "      <td>104.747337</td>\n",
              "    </tr>\n",
              "  </tbody>\n",
              "</table>\n",
              "</div>\n",
              "      <button class=\"colab-df-convert\" onclick=\"convertToInteractive('df-670b5251-f009-486e-8814-1a245615c378')\"\n",
              "              title=\"Convert this dataframe to an interactive table.\"\n",
              "              style=\"display:none;\">\n",
              "        \n",
              "  <svg xmlns=\"http://www.w3.org/2000/svg\" height=\"24px\"viewBox=\"0 0 24 24\"\n",
              "       width=\"24px\">\n",
              "    <path d=\"M0 0h24v24H0V0z\" fill=\"none\"/>\n",
              "    <path d=\"M18.56 5.44l.94 2.06.94-2.06 2.06-.94-2.06-.94-.94-2.06-.94 2.06-2.06.94zm-11 1L8.5 8.5l.94-2.06 2.06-.94-2.06-.94L8.5 2.5l-.94 2.06-2.06.94zm10 10l.94 2.06.94-2.06 2.06-.94-2.06-.94-.94-2.06-.94 2.06-2.06.94z\"/><path d=\"M17.41 7.96l-1.37-1.37c-.4-.4-.92-.59-1.43-.59-.52 0-1.04.2-1.43.59L10.3 9.45l-7.72 7.72c-.78.78-.78 2.05 0 2.83L4 21.41c.39.39.9.59 1.41.59.51 0 1.02-.2 1.41-.59l7.78-7.78 2.81-2.81c.8-.78.8-2.07 0-2.86zM5.41 20L4 18.59l7.72-7.72 1.47 1.35L5.41 20z\"/>\n",
              "  </svg>\n",
              "      </button>\n",
              "      \n",
              "  <style>\n",
              "    .colab-df-container {\n",
              "      display:flex;\n",
              "      flex-wrap:wrap;\n",
              "      gap: 12px;\n",
              "    }\n",
              "\n",
              "    .colab-df-convert {\n",
              "      background-color: #E8F0FE;\n",
              "      border: none;\n",
              "      border-radius: 50%;\n",
              "      cursor: pointer;\n",
              "      display: none;\n",
              "      fill: #1967D2;\n",
              "      height: 32px;\n",
              "      padding: 0 0 0 0;\n",
              "      width: 32px;\n",
              "    }\n",
              "\n",
              "    .colab-df-convert:hover {\n",
              "      background-color: #E2EBFA;\n",
              "      box-shadow: 0px 1px 2px rgba(60, 64, 67, 0.3), 0px 1px 3px 1px rgba(60, 64, 67, 0.15);\n",
              "      fill: #174EA6;\n",
              "    }\n",
              "\n",
              "    [theme=dark] .colab-df-convert {\n",
              "      background-color: #3B4455;\n",
              "      fill: #D2E3FC;\n",
              "    }\n",
              "\n",
              "    [theme=dark] .colab-df-convert:hover {\n",
              "      background-color: #434B5C;\n",
              "      box-shadow: 0px 1px 3px 1px rgba(0, 0, 0, 0.15);\n",
              "      filter: drop-shadow(0px 1px 2px rgba(0, 0, 0, 0.3));\n",
              "      fill: #FFFFFF;\n",
              "    }\n",
              "  </style>\n",
              "\n",
              "      <script>\n",
              "        const buttonEl =\n",
              "          document.querySelector('#df-670b5251-f009-486e-8814-1a245615c378 button.colab-df-convert');\n",
              "        buttonEl.style.display =\n",
              "          google.colab.kernel.accessAllowed ? 'block' : 'none';\n",
              "\n",
              "        async function convertToInteractive(key) {\n",
              "          const element = document.querySelector('#df-670b5251-f009-486e-8814-1a245615c378');\n",
              "          const dataTable =\n",
              "            await google.colab.kernel.invokeFunction('convertToInteractive',\n",
              "                                                     [key], {});\n",
              "          if (!dataTable) return;\n",
              "\n",
              "          const docLinkHtml = 'Like what you see? Visit the ' +\n",
              "            '<a target=\"_blank\" href=https://colab.research.google.com/notebooks/data_table.ipynb>data table notebook</a>'\n",
              "            + ' to learn more about interactive tables.';\n",
              "          element.innerHTML = '';\n",
              "          dataTable['output_type'] = 'display_data';\n",
              "          await google.colab.output.renderOutput(dataTable, element);\n",
              "          const docLink = document.createElement('div');\n",
              "          docLink.innerHTML = docLinkHtml;\n",
              "          element.appendChild(docLink);\n",
              "        }\n",
              "      </script>\n",
              "    </div>\n",
              "  </div>\n",
              "  "
            ]
          },
          "metadata": {},
          "execution_count": 64
        }
      ],
      "source": [
        "df[['Vitoria','Gols pro']].cov()"
      ]
    },
    {
      "cell_type": "markdown",
      "metadata": {
        "id": "dByMzuN-IMIP"
      },
      "source": [
        "Apresentação da covariância entre vitorias e gols marcados de uma equipe, mostrando que existe uma dependecia de uma sob a outra."
      ]
    },
    {
      "cell_type": "markdown",
      "metadata": {
        "id": "2YiLijBtHrP6"
      },
      "source": [
        "##Correlação"
      ]
    },
    {
      "cell_type": "code",
      "execution_count": null,
      "metadata": {
        "id": "gM586CjUHtC_",
        "colab": {
          "base_uri": "https://localhost:8080/"
        },
        "outputId": "2529fee7-7205-4b82-9083-c3edc1738439"
      },
      "outputs": [
        {
          "output_type": "execute_result",
          "data": {
            "text/plain": [
              "           Vitoria  Gols pro\n",
              "Vitoria   1.000000  0.731802\n",
              "Gols pro  0.731802  1.000000"
            ],
            "text/html": [
              "\n",
              "  <div id=\"df-1b7aa77e-11c6-4ad3-83de-be69f3d7dff3\">\n",
              "    <div class=\"colab-df-container\">\n",
              "      <div>\n",
              "<style scoped>\n",
              "    .dataframe tbody tr th:only-of-type {\n",
              "        vertical-align: middle;\n",
              "    }\n",
              "\n",
              "    .dataframe tbody tr th {\n",
              "        vertical-align: top;\n",
              "    }\n",
              "\n",
              "    .dataframe thead th {\n",
              "        text-align: right;\n",
              "    }\n",
              "</style>\n",
              "<table border=\"1\" class=\"dataframe\">\n",
              "  <thead>\n",
              "    <tr style=\"text-align: right;\">\n",
              "      <th></th>\n",
              "      <th>Vitoria</th>\n",
              "      <th>Gols pro</th>\n",
              "    </tr>\n",
              "  </thead>\n",
              "  <tbody>\n",
              "    <tr>\n",
              "      <th>Vitoria</th>\n",
              "      <td>1.000000</td>\n",
              "      <td>0.731802</td>\n",
              "    </tr>\n",
              "    <tr>\n",
              "      <th>Gols pro</th>\n",
              "      <td>0.731802</td>\n",
              "      <td>1.000000</td>\n",
              "    </tr>\n",
              "  </tbody>\n",
              "</table>\n",
              "</div>\n",
              "      <button class=\"colab-df-convert\" onclick=\"convertToInteractive('df-1b7aa77e-11c6-4ad3-83de-be69f3d7dff3')\"\n",
              "              title=\"Convert this dataframe to an interactive table.\"\n",
              "              style=\"display:none;\">\n",
              "        \n",
              "  <svg xmlns=\"http://www.w3.org/2000/svg\" height=\"24px\"viewBox=\"0 0 24 24\"\n",
              "       width=\"24px\">\n",
              "    <path d=\"M0 0h24v24H0V0z\" fill=\"none\"/>\n",
              "    <path d=\"M18.56 5.44l.94 2.06.94-2.06 2.06-.94-2.06-.94-.94-2.06-.94 2.06-2.06.94zm-11 1L8.5 8.5l.94-2.06 2.06-.94-2.06-.94L8.5 2.5l-.94 2.06-2.06.94zm10 10l.94 2.06.94-2.06 2.06-.94-2.06-.94-.94-2.06-.94 2.06-2.06.94z\"/><path d=\"M17.41 7.96l-1.37-1.37c-.4-.4-.92-.59-1.43-.59-.52 0-1.04.2-1.43.59L10.3 9.45l-7.72 7.72c-.78.78-.78 2.05 0 2.83L4 21.41c.39.39.9.59 1.41.59.51 0 1.02-.2 1.41-.59l7.78-7.78 2.81-2.81c.8-.78.8-2.07 0-2.86zM5.41 20L4 18.59l7.72-7.72 1.47 1.35L5.41 20z\"/>\n",
              "  </svg>\n",
              "      </button>\n",
              "      \n",
              "  <style>\n",
              "    .colab-df-container {\n",
              "      display:flex;\n",
              "      flex-wrap:wrap;\n",
              "      gap: 12px;\n",
              "    }\n",
              "\n",
              "    .colab-df-convert {\n",
              "      background-color: #E8F0FE;\n",
              "      border: none;\n",
              "      border-radius: 50%;\n",
              "      cursor: pointer;\n",
              "      display: none;\n",
              "      fill: #1967D2;\n",
              "      height: 32px;\n",
              "      padding: 0 0 0 0;\n",
              "      width: 32px;\n",
              "    }\n",
              "\n",
              "    .colab-df-convert:hover {\n",
              "      background-color: #E2EBFA;\n",
              "      box-shadow: 0px 1px 2px rgba(60, 64, 67, 0.3), 0px 1px 3px 1px rgba(60, 64, 67, 0.15);\n",
              "      fill: #174EA6;\n",
              "    }\n",
              "\n",
              "    [theme=dark] .colab-df-convert {\n",
              "      background-color: #3B4455;\n",
              "      fill: #D2E3FC;\n",
              "    }\n",
              "\n",
              "    [theme=dark] .colab-df-convert:hover {\n",
              "      background-color: #434B5C;\n",
              "      box-shadow: 0px 1px 3px 1px rgba(0, 0, 0, 0.15);\n",
              "      filter: drop-shadow(0px 1px 2px rgba(0, 0, 0, 0.3));\n",
              "      fill: #FFFFFF;\n",
              "    }\n",
              "  </style>\n",
              "\n",
              "      <script>\n",
              "        const buttonEl =\n",
              "          document.querySelector('#df-1b7aa77e-11c6-4ad3-83de-be69f3d7dff3 button.colab-df-convert');\n",
              "        buttonEl.style.display =\n",
              "          google.colab.kernel.accessAllowed ? 'block' : 'none';\n",
              "\n",
              "        async function convertToInteractive(key) {\n",
              "          const element = document.querySelector('#df-1b7aa77e-11c6-4ad3-83de-be69f3d7dff3');\n",
              "          const dataTable =\n",
              "            await google.colab.kernel.invokeFunction('convertToInteractive',\n",
              "                                                     [key], {});\n",
              "          if (!dataTable) return;\n",
              "\n",
              "          const docLinkHtml = 'Like what you see? Visit the ' +\n",
              "            '<a target=\"_blank\" href=https://colab.research.google.com/notebooks/data_table.ipynb>data table notebook</a>'\n",
              "            + ' to learn more about interactive tables.';\n",
              "          element.innerHTML = '';\n",
              "          dataTable['output_type'] = 'display_data';\n",
              "          await google.colab.output.renderOutput(dataTable, element);\n",
              "          const docLink = document.createElement('div');\n",
              "          docLink.innerHTML = docLinkHtml;\n",
              "          element.appendChild(docLink);\n",
              "        }\n",
              "      </script>\n",
              "    </div>\n",
              "  </div>\n",
              "  "
            ]
          },
          "metadata": {},
          "execution_count": 65
        }
      ],
      "source": [
        "df[['Vitoria','Gols pro']].corr()"
      ]
    },
    {
      "cell_type": "markdown",
      "metadata": {
        "id": "F0KX-ejWAfKe"
      },
      "source": [
        "Apresentação da correlação sobre as vitórias de um time e gols marcados. Existe uma correlação muito forte entre essas duas váriaves, ja que ela esta muito próxima de 1."
      ]
    },
    {
      "cell_type": "markdown",
      "metadata": {
        "id": "d1CWdTu-Bcmz"
      },
      "source": [
        "# **Estatistica Descritiva**\n"
      ]
    },
    {
      "cell_type": "markdown",
      "metadata": {
        "id": "Hb_0RIuzvtYG"
      },
      "source": [
        "## **Box Plot**"
      ]
    },
    {
      "cell_type": "code",
      "execution_count": null,
      "metadata": {
        "id": "EPu9OX_goUwX",
        "colab": {
          "base_uri": "https://localhost:8080/",
          "height": 183
        },
        "outputId": "b570f545-1b3a-45d7-a2b8-1aae6e51398d"
      },
      "outputs": [
        {
          "output_type": "error",
          "ename": "NameError",
          "evalue": "ignored",
          "traceback": [
            "\u001b[0;31m---------------------------------------------------------------------------\u001b[0m",
            "\u001b[0;31mNameError\u001b[0m                                 Traceback (most recent call last)",
            "\u001b[0;32m<ipython-input-1-ffb4873d7a68>\u001b[0m in \u001b[0;36m<module>\u001b[0;34m\u001b[0m\n\u001b[0;32m----> 1\u001b[0;31m \u001b[0mfig2\u001b[0m \u001b[0;34m=\u001b[0m \u001b[0mpx\u001b[0m\u001b[0;34m.\u001b[0m\u001b[0mbox\u001b[0m\u001b[0;34m(\u001b[0m\u001b[0mdf\u001b[0m\u001b[0;34m,\u001b[0m \u001b[0mx\u001b[0m\u001b[0;34m=\u001b[0m\u001b[0;34m'Vitoria'\u001b[0m\u001b[0;34m,\u001b[0m \u001b[0my\u001b[0m\u001b[0;34m=\u001b[0m\u001b[0;34m'Gols Contra'\u001b[0m\u001b[0;34m)\u001b[0m\u001b[0;34m\u001b[0m\u001b[0;34m\u001b[0m\u001b[0m\n\u001b[0m\u001b[1;32m      2\u001b[0m \u001b[0mfig2\u001b[0m\u001b[0;34m.\u001b[0m\u001b[0mshow\u001b[0m\u001b[0;34m(\u001b[0m\u001b[0;34m)\u001b[0m\u001b[0;34m\u001b[0m\u001b[0;34m\u001b[0m\u001b[0m\n",
            "\u001b[0;31mNameError\u001b[0m: name 'px' is not defined"
          ]
        }
      ],
      "source": [
        "fig2 = px.box(df, x='Vitoria', y='Gols Contra')\n",
        "fig2.show()"
      ]
    },
    {
      "cell_type": "markdown",
      "metadata": {
        "id": "Q5Sy4mfStiHs"
      },
      "source": [
        "A partir deste boxplot analisar os quartis e suas medianas, tirando como exemplo podemos fazer uma analise objetiva da relação de gols sofridos com o número de vitorias. Podemos notar que existem poucas anomalias, como um time ter 10 vitorias só que sofreu 71 gols durante toda sua campanha no campeonato, e que a sua mediana neste caso é de 50.5 e o minimo de gols recebidos foram 38.\n"
      ]
    },
    {
      "cell_type": "markdown",
      "metadata": {
        "id": "Kg3zQNlvwAvO"
      },
      "source": [
        "## **Histograma**"
      ]
    },
    {
      "cell_type": "code",
      "execution_count": null,
      "metadata": {
        "id": "e7SDkvEtBt7M"
      },
      "outputs": [],
      "source": [
        "fig = px.histogram(df, x = 'Gols pro', marginal = 'rug')\n",
        "fig.show()"
      ]
    },
    {
      "cell_type": "markdown",
      "metadata": {
        "id": "ke91jfBzwdFJ"
      },
      "source": [
        "Através deste histograma, podemos analisar a quantidade de times que fizeram certa quantidade de gols durante este 10 anos de dados analisados dos campeonatos brasilerios. Podemos analisar que o minimo de gols feitos registrado por um time nestes dados foi de 15 gols, e pouquissimos times conseguiram marcar mais de 65 gols."
      ]
    },
    {
      "cell_type": "markdown",
      "metadata": {
        "id": "wEW-CFfnwFV3"
      },
      "source": [
        "## **Scatter Plot**"
      ]
    },
    {
      "cell_type": "code",
      "execution_count": null,
      "metadata": {
        "id": "0akBMANsB-3k"
      },
      "outputs": [],
      "source": [
        "col = df[['Vitoria', 'Empates', 'Derrotas', 'Gols pro', 'Gols Contra']]\n",
        "sns.pairplot(col)"
      ]
    },
    {
      "cell_type": "markdown",
      "metadata": {
        "id": "tIPjIURj7ZuC"
      },
      "source": [
        "Após analisar relaçoes do Scatter Plot acima, é notavel que a relação entre Gols contra e Vitoria é decrescente, logo esses dados possuem uma correlação negativa, diferente de Gols contra e Derroas que possuem uma correlação forte, ja que se um time sofrer muitos gols a sua taxa de derrotas poderá ser bem alta!"
      ]
    },
    {
      "cell_type": "markdown",
      "metadata": {
        "id": "r2jhSk_YvyZp"
      },
      "source": [
        "## **HeatMap**"
      ]
    },
    {
      "cell_type": "code",
      "execution_count": null,
      "metadata": {
        "id": "RfDEFfeaCRpo"
      },
      "outputs": [],
      "source": [
        "colcorr = df[['Vitoria', 'Empates', 'Derrotas', 'Gols pro', 'Gols Contra']].corr()\n",
        "sns.heatmap(colcorr,cmap = \"RdBu\", square = True, linecolor = \"grey\", annot= True)"
      ]
    },
    {
      "cell_type": "markdown",
      "metadata": {
        "id": "R5ogts22kTMk"
      },
      "source": [
        "Um mapa de calor que mostra a correlação entre quatro variaveis de meu DataSet, sendo essas Vitoria,empates,derroas,Gols pro e gols contra.\n",
        "Podemos que notar que Gols pro tem uma alta correlação com vitoria, diferente de Gols contra em relação a vitoria."
      ]
    },
    {
      "cell_type": "markdown",
      "metadata": {
        "id": "hHNRTCxKxPnM"
      },
      "source": [
        "# **Normal Padrão**\n"
      ]
    },
    {
      "cell_type": "code",
      "execution_count": null,
      "metadata": {
        "id": "OEz2JYn3uGcX",
        "colab": {
          "base_uri": "https://localhost:8080/",
          "height": 206
        },
        "outputId": "fff2424f-b31f-4de4-9924-d336698423d1"
      },
      "outputs": [
        {
          "output_type": "execute_result",
          "data": {
            "text/plain": [
              "   Posicao  Pontos  Vitoria  Empates  Derrotas  Gols pro  Gols Contra  \\\n",
              "0        1      67       19       10         9        58           44   \n",
              "1        2      65       19        8        11        65           44   \n",
              "2        3      65       18       11         9        57           42   \n",
              "3        4      62       18        8        12        58           53   \n",
              "4        5      62       17       11        10        58           45   \n",
              "\n",
              "   Aproveitamento  Partidas Jogadas  Media gol p/ partida  \n",
              "0            58.8                38                  1.53  \n",
              "1            57.0                38                  1.71  \n",
              "2            57.0                38                  1.50  \n",
              "3            54.4                38                  1.53  \n",
              "4            54.4                38                  1.53  "
            ],
            "text/html": [
              "\n",
              "  <div id=\"df-5a323293-3bae-4432-a295-4734dad654e2\">\n",
              "    <div class=\"colab-df-container\">\n",
              "      <div>\n",
              "<style scoped>\n",
              "    .dataframe tbody tr th:only-of-type {\n",
              "        vertical-align: middle;\n",
              "    }\n",
              "\n",
              "    .dataframe tbody tr th {\n",
              "        vertical-align: top;\n",
              "    }\n",
              "\n",
              "    .dataframe thead th {\n",
              "        text-align: right;\n",
              "    }\n",
              "</style>\n",
              "<table border=\"1\" class=\"dataframe\">\n",
              "  <thead>\n",
              "    <tr style=\"text-align: right;\">\n",
              "      <th></th>\n",
              "      <th>Posicao</th>\n",
              "      <th>Pontos</th>\n",
              "      <th>Vitoria</th>\n",
              "      <th>Empates</th>\n",
              "      <th>Derrotas</th>\n",
              "      <th>Gols pro</th>\n",
              "      <th>Gols Contra</th>\n",
              "      <th>Aproveitamento</th>\n",
              "      <th>Partidas Jogadas</th>\n",
              "      <th>Media gol p/ partida</th>\n",
              "    </tr>\n",
              "  </thead>\n",
              "  <tbody>\n",
              "    <tr>\n",
              "      <th>0</th>\n",
              "      <td>1</td>\n",
              "      <td>67</td>\n",
              "      <td>19</td>\n",
              "      <td>10</td>\n",
              "      <td>9</td>\n",
              "      <td>58</td>\n",
              "      <td>44</td>\n",
              "      <td>58.8</td>\n",
              "      <td>38</td>\n",
              "      <td>1.53</td>\n",
              "    </tr>\n",
              "    <tr>\n",
              "      <th>1</th>\n",
              "      <td>2</td>\n",
              "      <td>65</td>\n",
              "      <td>19</td>\n",
              "      <td>8</td>\n",
              "      <td>11</td>\n",
              "      <td>65</td>\n",
              "      <td>44</td>\n",
              "      <td>57.0</td>\n",
              "      <td>38</td>\n",
              "      <td>1.71</td>\n",
              "    </tr>\n",
              "    <tr>\n",
              "      <th>2</th>\n",
              "      <td>3</td>\n",
              "      <td>65</td>\n",
              "      <td>18</td>\n",
              "      <td>11</td>\n",
              "      <td>9</td>\n",
              "      <td>57</td>\n",
              "      <td>42</td>\n",
              "      <td>57.0</td>\n",
              "      <td>38</td>\n",
              "      <td>1.50</td>\n",
              "    </tr>\n",
              "    <tr>\n",
              "      <th>3</th>\n",
              "      <td>4</td>\n",
              "      <td>62</td>\n",
              "      <td>18</td>\n",
              "      <td>8</td>\n",
              "      <td>12</td>\n",
              "      <td>58</td>\n",
              "      <td>53</td>\n",
              "      <td>54.4</td>\n",
              "      <td>38</td>\n",
              "      <td>1.53</td>\n",
              "    </tr>\n",
              "    <tr>\n",
              "      <th>4</th>\n",
              "      <td>5</td>\n",
              "      <td>62</td>\n",
              "      <td>17</td>\n",
              "      <td>11</td>\n",
              "      <td>10</td>\n",
              "      <td>58</td>\n",
              "      <td>45</td>\n",
              "      <td>54.4</td>\n",
              "      <td>38</td>\n",
              "      <td>1.53</td>\n",
              "    </tr>\n",
              "  </tbody>\n",
              "</table>\n",
              "</div>\n",
              "      <button class=\"colab-df-convert\" onclick=\"convertToInteractive('df-5a323293-3bae-4432-a295-4734dad654e2')\"\n",
              "              title=\"Convert this dataframe to an interactive table.\"\n",
              "              style=\"display:none;\">\n",
              "        \n",
              "  <svg xmlns=\"http://www.w3.org/2000/svg\" height=\"24px\"viewBox=\"0 0 24 24\"\n",
              "       width=\"24px\">\n",
              "    <path d=\"M0 0h24v24H0V0z\" fill=\"none\"/>\n",
              "    <path d=\"M18.56 5.44l.94 2.06.94-2.06 2.06-.94-2.06-.94-.94-2.06-.94 2.06-2.06.94zm-11 1L8.5 8.5l.94-2.06 2.06-.94-2.06-.94L8.5 2.5l-.94 2.06-2.06.94zm10 10l.94 2.06.94-2.06 2.06-.94-2.06-.94-.94-2.06-.94 2.06-2.06.94z\"/><path d=\"M17.41 7.96l-1.37-1.37c-.4-.4-.92-.59-1.43-.59-.52 0-1.04.2-1.43.59L10.3 9.45l-7.72 7.72c-.78.78-.78 2.05 0 2.83L4 21.41c.39.39.9.59 1.41.59.51 0 1.02-.2 1.41-.59l7.78-7.78 2.81-2.81c.8-.78.8-2.07 0-2.86zM5.41 20L4 18.59l7.72-7.72 1.47 1.35L5.41 20z\"/>\n",
              "  </svg>\n",
              "      </button>\n",
              "      \n",
              "  <style>\n",
              "    .colab-df-container {\n",
              "      display:flex;\n",
              "      flex-wrap:wrap;\n",
              "      gap: 12px;\n",
              "    }\n",
              "\n",
              "    .colab-df-convert {\n",
              "      background-color: #E8F0FE;\n",
              "      border: none;\n",
              "      border-radius: 50%;\n",
              "      cursor: pointer;\n",
              "      display: none;\n",
              "      fill: #1967D2;\n",
              "      height: 32px;\n",
              "      padding: 0 0 0 0;\n",
              "      width: 32px;\n",
              "    }\n",
              "\n",
              "    .colab-df-convert:hover {\n",
              "      background-color: #E2EBFA;\n",
              "      box-shadow: 0px 1px 2px rgba(60, 64, 67, 0.3), 0px 1px 3px 1px rgba(60, 64, 67, 0.15);\n",
              "      fill: #174EA6;\n",
              "    }\n",
              "\n",
              "    [theme=dark] .colab-df-convert {\n",
              "      background-color: #3B4455;\n",
              "      fill: #D2E3FC;\n",
              "    }\n",
              "\n",
              "    [theme=dark] .colab-df-convert:hover {\n",
              "      background-color: #434B5C;\n",
              "      box-shadow: 0px 1px 3px 1px rgba(0, 0, 0, 0.15);\n",
              "      filter: drop-shadow(0px 1px 2px rgba(0, 0, 0, 0.3));\n",
              "      fill: #FFFFFF;\n",
              "    }\n",
              "  </style>\n",
              "\n",
              "      <script>\n",
              "        const buttonEl =\n",
              "          document.querySelector('#df-5a323293-3bae-4432-a295-4734dad654e2 button.colab-df-convert');\n",
              "        buttonEl.style.display =\n",
              "          google.colab.kernel.accessAllowed ? 'block' : 'none';\n",
              "\n",
              "        async function convertToInteractive(key) {\n",
              "          const element = document.querySelector('#df-5a323293-3bae-4432-a295-4734dad654e2');\n",
              "          const dataTable =\n",
              "            await google.colab.kernel.invokeFunction('convertToInteractive',\n",
              "                                                     [key], {});\n",
              "          if (!dataTable) return;\n",
              "\n",
              "          const docLinkHtml = 'Like what you see? Visit the ' +\n",
              "            '<a target=\"_blank\" href=https://colab.research.google.com/notebooks/data_table.ipynb>data table notebook</a>'\n",
              "            + ' to learn more about interactive tables.';\n",
              "          element.innerHTML = '';\n",
              "          dataTable['output_type'] = 'display_data';\n",
              "          await google.colab.output.renderOutput(dataTable, element);\n",
              "          const docLink = document.createElement('div');\n",
              "          docLink.innerHTML = docLinkHtml;\n",
              "          element.appendChild(docLink);\n",
              "        }\n",
              "      </script>\n",
              "    </div>\n",
              "  </div>\n",
              "  "
            ]
          },
          "metadata": {},
          "execution_count": 70
        }
      ],
      "source": [
        "#Transformar a coluna Time e Estados de string para int\n",
        "time = pd.get_dummies(df['Time'], drop_first=True)\n",
        "estados = pd.get_dummies(df['Estados'], drop_first=True)\n",
        "sg = pd.get_dummies(df['Saldo Gols'], drop_first=True)\n",
        "df.drop(['Time', 'Estados','Saldo Gols','ANO'], axis=1, inplace=True)\n",
        "df.head()"
      ]
    },
    {
      "cell_type": "markdown",
      "metadata": {
        "id": "htAuZ-JlkyLR"
      },
      "source": [
        "Nesta celula fizemos um tratamento de dados para podermos colocar nossos dados com valores de forma padronizada, então retiramos as strings e dados que não foram utilizados para analises."
      ]
    },
    {
      "cell_type": "code",
      "execution_count": null,
      "metadata": {
        "id": "_ATbSjdcxZ6y",
        "colab": {
          "base_uri": "https://localhost:8080/",
          "height": 206
        },
        "outputId": "b9507922-09f4-4c76-cec8-c889c965f259"
      },
      "outputs": [
        {
          "output_type": "execute_result",
          "data": {
            "text/plain": [
              "          0         1         2         3         4         5         6  \\\n",
              "0 -1.647509  1.311568  1.299973 -0.111013 -1.167074  1.085317 -0.294709   \n",
              "1 -1.474087  1.139107  1.299973 -0.903965 -0.687290  1.770987 -0.294709   \n",
              "2 -1.300665  1.139107  1.047306  0.285463 -1.167074  0.987364 -0.494512   \n",
              "3 -1.127243  0.880415  1.047306 -0.903965 -0.447398  1.085317  0.604403   \n",
              "4 -0.953821  0.880415  0.794639  0.285463 -0.927182  1.085317 -0.194808   \n",
              "\n",
              "          7    8         9  \n",
              "0  1.319153  0.0  1.099211  \n",
              "1  1.142533  0.0  1.769348  \n",
              "2  1.142533  0.0  0.987521  \n",
              "3  0.887416  0.0  1.099211  \n",
              "4  0.887416  0.0  1.099211  "
            ],
            "text/html": [
              "\n",
              "  <div id=\"df-0d11a746-9cd0-4529-ae94-b7fd5aea9e09\">\n",
              "    <div class=\"colab-df-container\">\n",
              "      <div>\n",
              "<style scoped>\n",
              "    .dataframe tbody tr th:only-of-type {\n",
              "        vertical-align: middle;\n",
              "    }\n",
              "\n",
              "    .dataframe tbody tr th {\n",
              "        vertical-align: top;\n",
              "    }\n",
              "\n",
              "    .dataframe thead th {\n",
              "        text-align: right;\n",
              "    }\n",
              "</style>\n",
              "<table border=\"1\" class=\"dataframe\">\n",
              "  <thead>\n",
              "    <tr style=\"text-align: right;\">\n",
              "      <th></th>\n",
              "      <th>0</th>\n",
              "      <th>1</th>\n",
              "      <th>2</th>\n",
              "      <th>3</th>\n",
              "      <th>4</th>\n",
              "      <th>5</th>\n",
              "      <th>6</th>\n",
              "      <th>7</th>\n",
              "      <th>8</th>\n",
              "      <th>9</th>\n",
              "    </tr>\n",
              "  </thead>\n",
              "  <tbody>\n",
              "    <tr>\n",
              "      <th>0</th>\n",
              "      <td>-1.647509</td>\n",
              "      <td>1.311568</td>\n",
              "      <td>1.299973</td>\n",
              "      <td>-0.111013</td>\n",
              "      <td>-1.167074</td>\n",
              "      <td>1.085317</td>\n",
              "      <td>-0.294709</td>\n",
              "      <td>1.319153</td>\n",
              "      <td>0.0</td>\n",
              "      <td>1.099211</td>\n",
              "    </tr>\n",
              "    <tr>\n",
              "      <th>1</th>\n",
              "      <td>-1.474087</td>\n",
              "      <td>1.139107</td>\n",
              "      <td>1.299973</td>\n",
              "      <td>-0.903965</td>\n",
              "      <td>-0.687290</td>\n",
              "      <td>1.770987</td>\n",
              "      <td>-0.294709</td>\n",
              "      <td>1.142533</td>\n",
              "      <td>0.0</td>\n",
              "      <td>1.769348</td>\n",
              "    </tr>\n",
              "    <tr>\n",
              "      <th>2</th>\n",
              "      <td>-1.300665</td>\n",
              "      <td>1.139107</td>\n",
              "      <td>1.047306</td>\n",
              "      <td>0.285463</td>\n",
              "      <td>-1.167074</td>\n",
              "      <td>0.987364</td>\n",
              "      <td>-0.494512</td>\n",
              "      <td>1.142533</td>\n",
              "      <td>0.0</td>\n",
              "      <td>0.987521</td>\n",
              "    </tr>\n",
              "    <tr>\n",
              "      <th>3</th>\n",
              "      <td>-1.127243</td>\n",
              "      <td>0.880415</td>\n",
              "      <td>1.047306</td>\n",
              "      <td>-0.903965</td>\n",
              "      <td>-0.447398</td>\n",
              "      <td>1.085317</td>\n",
              "      <td>0.604403</td>\n",
              "      <td>0.887416</td>\n",
              "      <td>0.0</td>\n",
              "      <td>1.099211</td>\n",
              "    </tr>\n",
              "    <tr>\n",
              "      <th>4</th>\n",
              "      <td>-0.953821</td>\n",
              "      <td>0.880415</td>\n",
              "      <td>0.794639</td>\n",
              "      <td>0.285463</td>\n",
              "      <td>-0.927182</td>\n",
              "      <td>1.085317</td>\n",
              "      <td>-0.194808</td>\n",
              "      <td>0.887416</td>\n",
              "      <td>0.0</td>\n",
              "      <td>1.099211</td>\n",
              "    </tr>\n",
              "  </tbody>\n",
              "</table>\n",
              "</div>\n",
              "      <button class=\"colab-df-convert\" onclick=\"convertToInteractive('df-0d11a746-9cd0-4529-ae94-b7fd5aea9e09')\"\n",
              "              title=\"Convert this dataframe to an interactive table.\"\n",
              "              style=\"display:none;\">\n",
              "        \n",
              "  <svg xmlns=\"http://www.w3.org/2000/svg\" height=\"24px\"viewBox=\"0 0 24 24\"\n",
              "       width=\"24px\">\n",
              "    <path d=\"M0 0h24v24H0V0z\" fill=\"none\"/>\n",
              "    <path d=\"M18.56 5.44l.94 2.06.94-2.06 2.06-.94-2.06-.94-.94-2.06-.94 2.06-2.06.94zm-11 1L8.5 8.5l.94-2.06 2.06-.94-2.06-.94L8.5 2.5l-.94 2.06-2.06.94zm10 10l.94 2.06.94-2.06 2.06-.94-2.06-.94-.94-2.06-.94 2.06-2.06.94z\"/><path d=\"M17.41 7.96l-1.37-1.37c-.4-.4-.92-.59-1.43-.59-.52 0-1.04.2-1.43.59L10.3 9.45l-7.72 7.72c-.78.78-.78 2.05 0 2.83L4 21.41c.39.39.9.59 1.41.59.51 0 1.02-.2 1.41-.59l7.78-7.78 2.81-2.81c.8-.78.8-2.07 0-2.86zM5.41 20L4 18.59l7.72-7.72 1.47 1.35L5.41 20z\"/>\n",
              "  </svg>\n",
              "      </button>\n",
              "      \n",
              "  <style>\n",
              "    .colab-df-container {\n",
              "      display:flex;\n",
              "      flex-wrap:wrap;\n",
              "      gap: 12px;\n",
              "    }\n",
              "\n",
              "    .colab-df-convert {\n",
              "      background-color: #E8F0FE;\n",
              "      border: none;\n",
              "      border-radius: 50%;\n",
              "      cursor: pointer;\n",
              "      display: none;\n",
              "      fill: #1967D2;\n",
              "      height: 32px;\n",
              "      padding: 0 0 0 0;\n",
              "      width: 32px;\n",
              "    }\n",
              "\n",
              "    .colab-df-convert:hover {\n",
              "      background-color: #E2EBFA;\n",
              "      box-shadow: 0px 1px 2px rgba(60, 64, 67, 0.3), 0px 1px 3px 1px rgba(60, 64, 67, 0.15);\n",
              "      fill: #174EA6;\n",
              "    }\n",
              "\n",
              "    [theme=dark] .colab-df-convert {\n",
              "      background-color: #3B4455;\n",
              "      fill: #D2E3FC;\n",
              "    }\n",
              "\n",
              "    [theme=dark] .colab-df-convert:hover {\n",
              "      background-color: #434B5C;\n",
              "      box-shadow: 0px 1px 3px 1px rgba(0, 0, 0, 0.15);\n",
              "      filter: drop-shadow(0px 1px 2px rgba(0, 0, 0, 0.3));\n",
              "      fill: #FFFFFF;\n",
              "    }\n",
              "  </style>\n",
              "\n",
              "      <script>\n",
              "        const buttonEl =\n",
              "          document.querySelector('#df-0d11a746-9cd0-4529-ae94-b7fd5aea9e09 button.colab-df-convert');\n",
              "        buttonEl.style.display =\n",
              "          google.colab.kernel.accessAllowed ? 'block' : 'none';\n",
              "\n",
              "        async function convertToInteractive(key) {\n",
              "          const element = document.querySelector('#df-0d11a746-9cd0-4529-ae94-b7fd5aea9e09');\n",
              "          const dataTable =\n",
              "            await google.colab.kernel.invokeFunction('convertToInteractive',\n",
              "                                                     [key], {});\n",
              "          if (!dataTable) return;\n",
              "\n",
              "          const docLinkHtml = 'Like what you see? Visit the ' +\n",
              "            '<a target=\"_blank\" href=https://colab.research.google.com/notebooks/data_table.ipynb>data table notebook</a>'\n",
              "            + ' to learn more about interactive tables.';\n",
              "          element.innerHTML = '';\n",
              "          dataTable['output_type'] = 'display_data';\n",
              "          await google.colab.output.renderOutput(dataTable, element);\n",
              "          const docLink = document.createElement('div');\n",
              "          docLink.innerHTML = docLinkHtml;\n",
              "          element.appendChild(docLink);\n",
              "        }\n",
              "      </script>\n",
              "    </div>\n",
              "  </div>\n",
              "  "
            ]
          },
          "metadata": {},
          "execution_count": 71
        }
      ],
      "source": [
        "scaler = StandardScaler()\n",
        "ajuste = scaler.fit(df)\n",
        "normal = scaler.transform(df)\n",
        "normalpadrao = pd.DataFrame(normal)\n",
        "normalpadrao.head()"
      ]
    },
    {
      "cell_type": "code",
      "execution_count": null,
      "metadata": {
        "id": "akhefYjno89G",
        "colab": {
          "base_uri": "https://localhost:8080/",
          "height": 301
        },
        "outputId": "a540540a-81bd-4325-e597-62d10d564fe2"
      },
      "outputs": [
        {
          "output_type": "execute_result",
          "data": {
            "text/plain": [
              "                  0             1             2             3             4  \\\n",
              "count  2.000000e+02  2.000000e+02  2.000000e+02  2.000000e+02  2.000000e+02   \n",
              "mean   8.881784e-18  5.551115e-17 -1.243450e-16  2.486900e-16 -5.329071e-17   \n",
              "std    1.002509e+00  1.002509e+00  1.002509e+00  1.002509e+00  1.002509e+00   \n",
              "min   -1.647509e+00 -2.741272e+00 -2.490036e+00 -2.886345e+00 -2.366533e+00   \n",
              "25%   -8.237545e-01 -6.717367e-01 -7.213651e-01 -5.074892e-01 -6.872900e-01   \n",
              "50%    0.000000e+00 -6.812221e-02  3.663676e-02 -1.110133e-01  3.238539e-02   \n",
              "75%    8.237545e-01  6.217229e-01  5.419713e-01  6.819386e-01  7.520608e-01   \n",
              "max    1.647509e+00  2.518797e+00  2.563310e+00  2.664318e+00  3.390871e+00   \n",
              "\n",
              "                  5             6             7      8           9  \n",
              "count  2.000000e+02  2.000000e+02  2.000000e+02  200.0  200.000000  \n",
              "mean  -1.598721e-16 -2.664535e-16 -1.443290e-16    0.0    0.000000  \n",
              "std    1.002509e+00  1.002509e+00  1.002509e+00    0.0    1.002509  \n",
              "min   -2.832796e+00 -2.492540e+00 -2.782350e+00    0.0   -2.847151  \n",
              "25%   -7.757864e-01 -6.943147e-01 -6.334761e-01    0.0   -0.762281  \n",
              "50%    5.681264e-02 -9.490633e-02 -4.964977e-02    0.0    0.056775  \n",
              "75%    5.955532e-01  6.044034e-01  6.519231e-01    0.0    0.577993  \n",
              "max    2.946421e+00  3.201840e+00  2.516242e+00    0.0    2.960702  "
            ],
            "text/html": [
              "\n",
              "  <div id=\"df-2c5870af-5460-4931-983b-efad02e8d90e\">\n",
              "    <div class=\"colab-df-container\">\n",
              "      <div>\n",
              "<style scoped>\n",
              "    .dataframe tbody tr th:only-of-type {\n",
              "        vertical-align: middle;\n",
              "    }\n",
              "\n",
              "    .dataframe tbody tr th {\n",
              "        vertical-align: top;\n",
              "    }\n",
              "\n",
              "    .dataframe thead th {\n",
              "        text-align: right;\n",
              "    }\n",
              "</style>\n",
              "<table border=\"1\" class=\"dataframe\">\n",
              "  <thead>\n",
              "    <tr style=\"text-align: right;\">\n",
              "      <th></th>\n",
              "      <th>0</th>\n",
              "      <th>1</th>\n",
              "      <th>2</th>\n",
              "      <th>3</th>\n",
              "      <th>4</th>\n",
              "      <th>5</th>\n",
              "      <th>6</th>\n",
              "      <th>7</th>\n",
              "      <th>8</th>\n",
              "      <th>9</th>\n",
              "    </tr>\n",
              "  </thead>\n",
              "  <tbody>\n",
              "    <tr>\n",
              "      <th>count</th>\n",
              "      <td>2.000000e+02</td>\n",
              "      <td>2.000000e+02</td>\n",
              "      <td>2.000000e+02</td>\n",
              "      <td>2.000000e+02</td>\n",
              "      <td>2.000000e+02</td>\n",
              "      <td>2.000000e+02</td>\n",
              "      <td>2.000000e+02</td>\n",
              "      <td>2.000000e+02</td>\n",
              "      <td>200.0</td>\n",
              "      <td>200.000000</td>\n",
              "    </tr>\n",
              "    <tr>\n",
              "      <th>mean</th>\n",
              "      <td>8.881784e-18</td>\n",
              "      <td>5.551115e-17</td>\n",
              "      <td>-1.243450e-16</td>\n",
              "      <td>2.486900e-16</td>\n",
              "      <td>-5.329071e-17</td>\n",
              "      <td>-1.598721e-16</td>\n",
              "      <td>-2.664535e-16</td>\n",
              "      <td>-1.443290e-16</td>\n",
              "      <td>0.0</td>\n",
              "      <td>0.000000</td>\n",
              "    </tr>\n",
              "    <tr>\n",
              "      <th>std</th>\n",
              "      <td>1.002509e+00</td>\n",
              "      <td>1.002509e+00</td>\n",
              "      <td>1.002509e+00</td>\n",
              "      <td>1.002509e+00</td>\n",
              "      <td>1.002509e+00</td>\n",
              "      <td>1.002509e+00</td>\n",
              "      <td>1.002509e+00</td>\n",
              "      <td>1.002509e+00</td>\n",
              "      <td>0.0</td>\n",
              "      <td>1.002509</td>\n",
              "    </tr>\n",
              "    <tr>\n",
              "      <th>min</th>\n",
              "      <td>-1.647509e+00</td>\n",
              "      <td>-2.741272e+00</td>\n",
              "      <td>-2.490036e+00</td>\n",
              "      <td>-2.886345e+00</td>\n",
              "      <td>-2.366533e+00</td>\n",
              "      <td>-2.832796e+00</td>\n",
              "      <td>-2.492540e+00</td>\n",
              "      <td>-2.782350e+00</td>\n",
              "      <td>0.0</td>\n",
              "      <td>-2.847151</td>\n",
              "    </tr>\n",
              "    <tr>\n",
              "      <th>25%</th>\n",
              "      <td>-8.237545e-01</td>\n",
              "      <td>-6.717367e-01</td>\n",
              "      <td>-7.213651e-01</td>\n",
              "      <td>-5.074892e-01</td>\n",
              "      <td>-6.872900e-01</td>\n",
              "      <td>-7.757864e-01</td>\n",
              "      <td>-6.943147e-01</td>\n",
              "      <td>-6.334761e-01</td>\n",
              "      <td>0.0</td>\n",
              "      <td>-0.762281</td>\n",
              "    </tr>\n",
              "    <tr>\n",
              "      <th>50%</th>\n",
              "      <td>0.000000e+00</td>\n",
              "      <td>-6.812221e-02</td>\n",
              "      <td>3.663676e-02</td>\n",
              "      <td>-1.110133e-01</td>\n",
              "      <td>3.238539e-02</td>\n",
              "      <td>5.681264e-02</td>\n",
              "      <td>-9.490633e-02</td>\n",
              "      <td>-4.964977e-02</td>\n",
              "      <td>0.0</td>\n",
              "      <td>0.056775</td>\n",
              "    </tr>\n",
              "    <tr>\n",
              "      <th>75%</th>\n",
              "      <td>8.237545e-01</td>\n",
              "      <td>6.217229e-01</td>\n",
              "      <td>5.419713e-01</td>\n",
              "      <td>6.819386e-01</td>\n",
              "      <td>7.520608e-01</td>\n",
              "      <td>5.955532e-01</td>\n",
              "      <td>6.044034e-01</td>\n",
              "      <td>6.519231e-01</td>\n",
              "      <td>0.0</td>\n",
              "      <td>0.577993</td>\n",
              "    </tr>\n",
              "    <tr>\n",
              "      <th>max</th>\n",
              "      <td>1.647509e+00</td>\n",
              "      <td>2.518797e+00</td>\n",
              "      <td>2.563310e+00</td>\n",
              "      <td>2.664318e+00</td>\n",
              "      <td>3.390871e+00</td>\n",
              "      <td>2.946421e+00</td>\n",
              "      <td>3.201840e+00</td>\n",
              "      <td>2.516242e+00</td>\n",
              "      <td>0.0</td>\n",
              "      <td>2.960702</td>\n",
              "    </tr>\n",
              "  </tbody>\n",
              "</table>\n",
              "</div>\n",
              "      <button class=\"colab-df-convert\" onclick=\"convertToInteractive('df-2c5870af-5460-4931-983b-efad02e8d90e')\"\n",
              "              title=\"Convert this dataframe to an interactive table.\"\n",
              "              style=\"display:none;\">\n",
              "        \n",
              "  <svg xmlns=\"http://www.w3.org/2000/svg\" height=\"24px\"viewBox=\"0 0 24 24\"\n",
              "       width=\"24px\">\n",
              "    <path d=\"M0 0h24v24H0V0z\" fill=\"none\"/>\n",
              "    <path d=\"M18.56 5.44l.94 2.06.94-2.06 2.06-.94-2.06-.94-.94-2.06-.94 2.06-2.06.94zm-11 1L8.5 8.5l.94-2.06 2.06-.94-2.06-.94L8.5 2.5l-.94 2.06-2.06.94zm10 10l.94 2.06.94-2.06 2.06-.94-2.06-.94-.94-2.06-.94 2.06-2.06.94z\"/><path d=\"M17.41 7.96l-1.37-1.37c-.4-.4-.92-.59-1.43-.59-.52 0-1.04.2-1.43.59L10.3 9.45l-7.72 7.72c-.78.78-.78 2.05 0 2.83L4 21.41c.39.39.9.59 1.41.59.51 0 1.02-.2 1.41-.59l7.78-7.78 2.81-2.81c.8-.78.8-2.07 0-2.86zM5.41 20L4 18.59l7.72-7.72 1.47 1.35L5.41 20z\"/>\n",
              "  </svg>\n",
              "      </button>\n",
              "      \n",
              "  <style>\n",
              "    .colab-df-container {\n",
              "      display:flex;\n",
              "      flex-wrap:wrap;\n",
              "      gap: 12px;\n",
              "    }\n",
              "\n",
              "    .colab-df-convert {\n",
              "      background-color: #E8F0FE;\n",
              "      border: none;\n",
              "      border-radius: 50%;\n",
              "      cursor: pointer;\n",
              "      display: none;\n",
              "      fill: #1967D2;\n",
              "      height: 32px;\n",
              "      padding: 0 0 0 0;\n",
              "      width: 32px;\n",
              "    }\n",
              "\n",
              "    .colab-df-convert:hover {\n",
              "      background-color: #E2EBFA;\n",
              "      box-shadow: 0px 1px 2px rgba(60, 64, 67, 0.3), 0px 1px 3px 1px rgba(60, 64, 67, 0.15);\n",
              "      fill: #174EA6;\n",
              "    }\n",
              "\n",
              "    [theme=dark] .colab-df-convert {\n",
              "      background-color: #3B4455;\n",
              "      fill: #D2E3FC;\n",
              "    }\n",
              "\n",
              "    [theme=dark] .colab-df-convert:hover {\n",
              "      background-color: #434B5C;\n",
              "      box-shadow: 0px 1px 3px 1px rgba(0, 0, 0, 0.15);\n",
              "      filter: drop-shadow(0px 1px 2px rgba(0, 0, 0, 0.3));\n",
              "      fill: #FFFFFF;\n",
              "    }\n",
              "  </style>\n",
              "\n",
              "      <script>\n",
              "        const buttonEl =\n",
              "          document.querySelector('#df-2c5870af-5460-4931-983b-efad02e8d90e button.colab-df-convert');\n",
              "        buttonEl.style.display =\n",
              "          google.colab.kernel.accessAllowed ? 'block' : 'none';\n",
              "\n",
              "        async function convertToInteractive(key) {\n",
              "          const element = document.querySelector('#df-2c5870af-5460-4931-983b-efad02e8d90e');\n",
              "          const dataTable =\n",
              "            await google.colab.kernel.invokeFunction('convertToInteractive',\n",
              "                                                     [key], {});\n",
              "          if (!dataTable) return;\n",
              "\n",
              "          const docLinkHtml = 'Like what you see? Visit the ' +\n",
              "            '<a target=\"_blank\" href=https://colab.research.google.com/notebooks/data_table.ipynb>data table notebook</a>'\n",
              "            + ' to learn more about interactive tables.';\n",
              "          element.innerHTML = '';\n",
              "          dataTable['output_type'] = 'display_data';\n",
              "          await google.colab.output.renderOutput(dataTable, element);\n",
              "          const docLink = document.createElement('div');\n",
              "          docLink.innerHTML = docLinkHtml;\n",
              "          element.appendChild(docLink);\n",
              "        }\n",
              "      </script>\n",
              "    </div>\n",
              "  </div>\n",
              "  "
            ]
          },
          "metadata": {},
          "execution_count": 72
        }
      ],
      "source": [
        "normalpadrao.describe()"
      ]
    },
    {
      "cell_type": "markdown",
      "metadata": {
        "id": "QOXY24DMhQwP"
      },
      "source": [
        "Após a realização do tratamento de dados, nos realizamos a padronização dos dados inteiros do DataSet escolho como foi mostrado nas tabela acima."
      ]
    },
    {
      "cell_type": "markdown",
      "metadata": {
        "id": "GvBXbESID6qk"
      },
      "source": [
        "# **Distribuição Amostral**"
      ]
    },
    {
      "cell_type": "markdown",
      "metadata": {
        "id": "28Ow6tRfcdtC"
      },
      "source": [
        "Utilizamos a função para pegarmos um número aleatorio numero da coluna escolhida com reposição e mudamos o numero de amostras de população para podermos checar a evolução dos dados.\n",
        "Utilizei este site como referência: https://datatofish.com/random-rows-pandas-dataframe/"
      ]
    },
    {
      "cell_type": "markdown",
      "metadata": {
        "id": "y5P9DUunb_Gn"
      },
      "source": [
        "###**1 amostra**"
      ]
    },
    {
      "cell_type": "code",
      "execution_count": null,
      "metadata": {
        "id": "kok_V5InEPSF",
        "colab": {
          "base_uri": "https://localhost:8080/",
          "height": 265
        },
        "outputId": "8b5c3d93-421a-4f66-8313-22068c2b3f96"
      },
      "outputs": [
        {
          "output_type": "display_data",
          "data": {
            "text/plain": [
              "<Figure size 432x288 with 1 Axes>"
            ],
            "image/png": "[encoded data removed]"
          },
          "metadata": {
            "needs_background": "light"
          }
        }
      ],
      "source": [
        "distAmostral = [mean(df['Gols Contra'].sample(n=1,replace=True)) for _ in range(1000)]\n",
        "pyplot.hist(distAmostral)\n",
        "pyplot.show()"
      ]
    },
    {
      "cell_type": "markdown",
      "metadata": {
        "id": "VxxCSPh_b4LI"
      },
      "source": [
        "###**1000 amostras**"
      ]
    },
    {
      "cell_type": "code",
      "execution_count": null,
      "metadata": {
        "id": "vliG_AV5H4uS",
        "colab": {
          "base_uri": "https://localhost:8080/",
          "height": 267
        },
        "outputId": "15408a08-dbaf-45eb-aadc-9ef60aa3670a"
      },
      "outputs": [
        {
          "output_type": "display_data",
          "data": {
            "text/plain": [
              "<Figure size 432x288 with 1 Axes>"
            ],
            "image/png": "[encoded data removed]"
          },
          "metadata": {
            "needs_background": "light"
          }
        }
      ],
      "source": [
        "distAmostral = [mean(df['Gols Contra'].sample(n=1000,replace=True)) for _ in range(1000)]\n",
        "pyplot.hist(distAmostral)\n",
        "pyplot.show()"
      ]
    },
    {
      "cell_type": "markdown",
      "metadata": {
        "id": "-b0OEiaqcCMO"
      },
      "source": [
        "###**10000 amostras**"
      ]
    },
    {
      "cell_type": "code",
      "execution_count": null,
      "metadata": {
        "id": "nM7dysZLIC_4",
        "colab": {
          "base_uri": "https://localhost:8080/",
          "height": 265
        },
        "outputId": "bd91cf57-cbef-4572-85dc-6f8970687902"
      },
      "outputs": [
        {
          "output_type": "display_data",
          "data": {
            "text/plain": [
              "<Figure size 432x288 with 1 Axes>"
            ],
            "image/png": "[encoded data removed]"
          },
          "metadata": {
            "needs_background": "light"
          }
        }
      ],
      "source": [
        "distAmostral = [mean(df['Gols Contra'].sample(n=10000,replace=True)) for _ in range(1000)]\n",
        "pyplot.hist(distAmostral)\n",
        "pyplot.show()"
      ]
    },
    {
      "cell_type": "markdown",
      "metadata": {
        "id": "3-jwzrvtsAYs"
      },
      "source": [
        "Podemos ver acima três histogramas e fazendo a analise das médias de valores de uma mesma coluna so que com quantidades de amostras diferentes. É possivel notar que a cada vez que aumentamos a quantidade de amostras, mais precisa ficará nossa análise como podemos notar na evolução do primeiro gráfico em relação ao terceiro."
      ]
    },
    {
      "cell_type": "markdown",
      "metadata": {
        "id": "IhZsKDEtmIlf"
      },
      "source": [
        "# **Intervalo de Confiança**"
      ]
    },
    {
      "cell_type": "code",
      "execution_count": null,
      "metadata": {
        "id": "ZbMOoe0BWVFd"
      },
      "outputs": [],
      "source": [
        "dsvpd = np.std(df['Gols Contra'])\n",
        "a = sum(df['Gols Contra'])\n",
        "b = len(df['Gols Contra'])\n",
        "media = a/b"
      ]
    },
    {
      "cell_type": "code",
      "execution_count": null,
      "metadata": {
        "id": "G3kQopWTxgWW",
        "colab": {
          "base_uri": "https://localhost:8080/"
        },
        "outputId": "cac484f6-2176-477b-baa8-a975f15fd1da"
      },
      "outputs": [
        {
          "output_type": "stream",
          "name": "stdout",
          "text": [
            "95%\n",
            "Intervalo -:  45.562702778781706\n",
            "Intervalo +:  48.3372972212183\n",
            "---------------------------------------------\n",
            "90%\n",
            "Intervalo -:  45.789200284286736\n",
            "Intervalo +:  48.11079971571327\n"
          ]
        }
      ],
      "source": [
        "#1,96 -> 95%\n",
        "#1,65 -> 90%\n",
        "#200 -> total de linhas da coluna utilizada\n",
        "ic1 = media - 1.96 * np.std(df['Gols Contra'])/np.sqrt(200)\n",
        "ic2 = media + 1.96 * np.std(df['Gols Contra'])/np.sqrt(200)\n",
        "print('95%')\n",
        "print('Intervalo -: ',ic1)\n",
        "print('Intervalo +: ',ic2)\n",
        "ic1 = media - 1.64 * np.std(df['Gols Contra'])/np.sqrt(200)\n",
        "ic2 = media + 1.64 * np.std(df['Gols Contra'])/np.sqrt(200)\n",
        "print('---------------------------------------------')\n",
        "print('90%')\n",
        "print('Intervalo -: ',ic1)\n",
        "print('Intervalo +: ',ic2)"
      ]
    },
    {
      "cell_type": "markdown",
      "metadata": {
        "id": "T-lUfHBGVG-V"
      },
      "source": [
        "Aplicação da formula de intervalo de confiança, com isso podemos comparar com os histogramas gerados acima e notamos que existe um grau de confiança condizente com os resultados abaixo."
      ]
    }
  ],
  "metadata": {
    "colab": {
      "collapsed_sections": [
        "hqVw6kbhxceb",
        "zMg5RpBrV0jy",
        "Q6KauvqYWtsd",
        "UKloWwk5W0XW",
        "wAUAqhcdXlpM",
        "hgh79oHRYWkn",
        "uQfQnFkhZI26",
        "GPcZM1uOZTmD",
        "aEHam9kOZeUZ",
        "2YiLijBtHrP6"
      ],
      "provenance": []
    },
    "kernelspec": {
      "display_name": "Python 3",
      "name": "python3"
    },
    "language_info": {
      "name": "python"
    }
  },
  "nbformat": 4,
  "nbformat_minor": 0
}